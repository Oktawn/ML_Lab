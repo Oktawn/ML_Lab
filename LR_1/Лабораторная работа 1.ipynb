{
 "cells": [
  {
   "cell_type": "markdown",
   "id": "013c5edf",
   "metadata": {},
   "source": [
    "# Лабораторная работа 1\n",
    "## Знакомство с Pandas"
   ]
  },
  {
   "cell_type": "markdown",
   "id": "3badecaf",
   "metadata": {},
   "source": [
    "Pandas — это библиотека Python, предназначенная для быстрой загрузки и операций в первую очередь с, так называемыми, панельными данными (многомерные временные ряды).\n",
    "\n",
    "Кроме того, она используется аналитиками и просто в качестве «Excel на стероидах».\n",
    "\n",
    "Основное достоинство библиотеки - простая работа с файлами в форматах .csv, tsv или xls"
   ]
  },
  {
   "cell_type": "markdown",
   "id": "e77613d2",
   "metadata": {},
   "source": [
    "Для того, чтобы использовать библиотеки в своей работе, необходимо сначала их импортировать в рабочую область.\n",
    "Для этого, в блоке типа Code необходимо написать\n",
    "\n",
    "import имя_библиотеки \n",
    "\n",
    "Например,\n",
    "\n",
    "import pandas\n",
    "\n",
    "Каждая команда библиотеки – это функция. Часто возникает ситуация, что в разных библиотеках функции носят одинаковые названия и, если не указать ИЗ КАКОЙ КОНКРЕТНО библиотеки необходимо использовать функцию, можно получить совершенно непредсказуемое поведение кода.\n",
    "\n",
    "Для решения этой проблемы, функции можно импортировать как алиас, дописывая который перед командой, указывают, из какой библиотеки именно библиотеки используется функция. \n",
    "\n",
    "Для этого команду импорта модифицируют следующим образом:\n",
    "\n",
    "import имя_библиотеки as название алиаса\n"
   ]
  },
  {
   "cell_type": "markdown",
   "id": "dc0be0c4",
   "metadata": {},
   "source": [
    "Импортируем библиотеки Pandas и NumPy в рабочую область с указанием алиаса"
   ]
  },
  {
   "cell_type": "code",
   "execution_count": 1,
   "id": "c89be946",
   "metadata": {},
   "outputs": [],
   "source": [
    "#Все строки кода нужно запускать на выполнение!!!\n",
    "#импорт библиотек\n",
    "import pandas as pd\n",
    "import numpy as np"
   ]
  },
  {
   "cell_type": "markdown",
   "id": "50f78d7d",
   "metadata": {},
   "source": [
    "### 0. Основные структуры данных в Pandas\n",
    "\n",
    "Основными структурами данных в Pandas являются объекты Series и DataFrame. \n",
    "\n",
    "Они не являются универсальным решением любой задачи, \n",
    "но образуют солидную и простую для использования основу большинства приложений."
   ]
  },
  {
   "cell_type": "markdown",
   "id": "2387db49",
   "metadata": {},
   "source": [
    "Series – одномерный, похожий на массив объект, содержащий последовательность однотипных данных и ассоциированный с ним массив меток, который называется индексом. \n",
    "\n",
    "Простейший объект Series состоит только из массива данных:"
   ]
  },
  {
   "cell_type": "code",
   "execution_count": 2,
   "id": "0b2556df",
   "metadata": {},
   "outputs": [
    {
     "data": {
      "text/plain": [
       "0    4\n",
       "1    8\n",
       "2   -3\n",
       "3    6\n",
       "dtype: int64"
      ]
     },
     "execution_count": 2,
     "metadata": {},
     "output_type": "execute_result"
    }
   ],
   "source": [
    "obj = pd.Series([4, 8, -3, 6])\n",
    "obj"
   ]
  },
  {
   "cell_type": "markdown",
   "id": "9fdea1a5",
   "metadata": {},
   "source": [
    "В строковом представлении Series, отображаемом в интерактивном режиме, индекс находится слева, а значения – справа. Поскольку индекс для данных не задан, то по умолчанию создается индекс, состоящий из целых чисел от 0 до N – 1 (где N – длина массива данных)."
   ]
  },
  {
   "cell_type": "markdown",
   "id": "d3c623c7",
   "metadata": {},
   "source": [
    "Индекс, идентифицирующий каждый элемент данных, создается непосредственно при создании объекта Series:"
   ]
  },
  {
   "cell_type": "code",
   "execution_count": 3,
   "id": "8c5c4252",
   "metadata": {},
   "outputs": [
    {
     "data": {
      "text/plain": [
       "b    4\n",
       "d    8\n",
       "a   -3\n",
       "c    6\n",
       "dtype: int64"
      ]
     },
     "execution_count": 3,
     "metadata": {},
     "output_type": "execute_result"
    }
   ],
   "source": [
    "obj2 = pd.Series([4, 8, -3, 6], index=['b', 'd', 'a', 'c'])\n",
    "obj2"
   ]
  },
  {
   "cell_type": "markdown",
   "id": "b8f60f9c",
   "metadata": {},
   "source": [
    "Объект DataFrame представляет табличную структуру данных, состоящую из упорядоченной последовательности столбцов.\n",
    "\n",
    "Каждый столбец содержит данные одного типа. В разных столбцах типы данных могут различаться.\n",
    "\n",
    "В объекте DataFrame хранятся два индекса: по строкам и по столбцам.  \n",
    "\n",
    "Можно считать, что это словарь объектов Series, имеющих общий индекс.  \n",
    "\n",
    "Внутри объекта данные хранятся в виде одного или нескольких двумерных блоков, а не в виде списка, словаря или другого набора одномерных массивов."
   ]
  },
  {
   "cell_type": "markdown",
   "id": "2b099cae",
   "metadata": {},
   "source": [
    "Самый простой способ создать объект DataFrame – на основе словаря списков одинаковой длины или массивов NumPy"
   ]
  },
  {
   "cell_type": "code",
   "execution_count": 4,
   "id": "fe49178f",
   "metadata": {},
   "outputs": [],
   "source": [
    "data = {\n",
    "        'continent': ['Europe', ' Europe', 'Asia', 'Asia', 'North America', 'Asia'],\n",
    "        'location': ['Germany', 'Italy', 'Thailand', 'China', 'USA', 'China'],\n",
    "        'year': [2010, 2014, 2012, 2015, 2016, 2018]\n",
    "       }\n",
    "frame = pd.DataFrame(data)"
   ]
  },
  {
   "cell_type": "markdown",
   "id": "2aecfb01",
   "metadata": {},
   "source": [
    "Получившемуся DataFrame автоматически будет назначен индекс, как и в случае Series, и столбцы расположатся по порядку. \n",
    "\n",
    "В Jupyter-блокноте объекты DataFrame отображаются в виде HTML-таблицы, более удобной для браузера."
   ]
  },
  {
   "cell_type": "code",
   "execution_count": 5,
   "id": "49676abd",
   "metadata": {},
   "outputs": [
    {
     "data": {
      "text/html": [
       "<div>\n",
       "<style scoped>\n",
       "    .dataframe tbody tr th:only-of-type {\n",
       "        vertical-align: middle;\n",
       "    }\n",
       "\n",
       "    .dataframe tbody tr th {\n",
       "        vertical-align: top;\n",
       "    }\n",
       "\n",
       "    .dataframe thead th {\n",
       "        text-align: right;\n",
       "    }\n",
       "</style>\n",
       "<table border=\"1\" class=\"dataframe\">\n",
       "  <thead>\n",
       "    <tr style=\"text-align: right;\">\n",
       "      <th></th>\n",
       "      <th>continent</th>\n",
       "      <th>location</th>\n",
       "      <th>year</th>\n",
       "    </tr>\n",
       "  </thead>\n",
       "  <tbody>\n",
       "    <tr>\n",
       "      <th>0</th>\n",
       "      <td>Europe</td>\n",
       "      <td>Germany</td>\n",
       "      <td>2010</td>\n",
       "    </tr>\n",
       "    <tr>\n",
       "      <th>1</th>\n",
       "      <td>Europe</td>\n",
       "      <td>Italy</td>\n",
       "      <td>2014</td>\n",
       "    </tr>\n",
       "    <tr>\n",
       "      <th>2</th>\n",
       "      <td>Asia</td>\n",
       "      <td>Thailand</td>\n",
       "      <td>2012</td>\n",
       "    </tr>\n",
       "    <tr>\n",
       "      <th>3</th>\n",
       "      <td>Asia</td>\n",
       "      <td>China</td>\n",
       "      <td>2015</td>\n",
       "    </tr>\n",
       "    <tr>\n",
       "      <th>4</th>\n",
       "      <td>North America</td>\n",
       "      <td>USA</td>\n",
       "      <td>2016</td>\n",
       "    </tr>\n",
       "    <tr>\n",
       "      <th>5</th>\n",
       "      <td>Asia</td>\n",
       "      <td>China</td>\n",
       "      <td>2018</td>\n",
       "    </tr>\n",
       "  </tbody>\n",
       "</table>\n",
       "</div>"
      ],
      "text/plain": [
       "       continent  location  year\n",
       "0         Europe   Germany  2010\n",
       "1         Europe     Italy  2014\n",
       "2           Asia  Thailand  2012\n",
       "3           Asia     China  2015\n",
       "4  North America       USA  2016\n",
       "5           Asia     China  2018"
      ]
     },
     "execution_count": 5,
     "metadata": {},
     "output_type": "execute_result"
    }
   ],
   "source": [
    "frame"
   ]
  },
  {
   "cell_type": "markdown",
   "id": "ab0b7730",
   "metadata": {},
   "source": [
    "Для больших объектов DataFrame метод head отбирает только первые пять строк:"
   ]
  },
  {
   "cell_type": "code",
   "execution_count": null,
   "id": "e1dfdc7f",
   "metadata": {},
   "outputs": [],
   "source": [
    "frame.head()"
   ]
  },
  {
   "cell_type": "markdown",
   "id": "a84f0728",
   "metadata": {},
   "source": [
    "При необходимости в качестве аргумента метода head можно указать требуемое число строк для вывода (меньше или больше 5). Например, три:"
   ]
  },
  {
   "cell_type": "code",
   "execution_count": null,
   "id": "2290ac20",
   "metadata": {},
   "outputs": [],
   "source": [
    "frame.head(3)"
   ]
  },
  {
   "cell_type": "markdown",
   "id": "90334264",
   "metadata": {},
   "source": [
    "Если задать последовательность столбцов, то столбцы DataFrame расположатся строго в указанном порядке. Например:"
   ]
  },
  {
   "cell_type": "code",
   "execution_count": 6,
   "id": "96f913fa",
   "metadata": {},
   "outputs": [
    {
     "data": {
      "text/html": [
       "<div>\n",
       "<style scoped>\n",
       "    .dataframe tbody tr th:only-of-type {\n",
       "        vertical-align: middle;\n",
       "    }\n",
       "\n",
       "    .dataframe tbody tr th {\n",
       "        vertical-align: top;\n",
       "    }\n",
       "\n",
       "    .dataframe thead th {\n",
       "        text-align: right;\n",
       "    }\n",
       "</style>\n",
       "<table border=\"1\" class=\"dataframe\">\n",
       "  <thead>\n",
       "    <tr style=\"text-align: right;\">\n",
       "      <th></th>\n",
       "      <th>year</th>\n",
       "      <th>location</th>\n",
       "      <th>continent</th>\n",
       "    </tr>\n",
       "  </thead>\n",
       "  <tbody>\n",
       "    <tr>\n",
       "      <th>0</th>\n",
       "      <td>2010</td>\n",
       "      <td>Germany</td>\n",
       "      <td>Europe</td>\n",
       "    </tr>\n",
       "    <tr>\n",
       "      <th>1</th>\n",
       "      <td>2014</td>\n",
       "      <td>Italy</td>\n",
       "      <td>Europe</td>\n",
       "    </tr>\n",
       "    <tr>\n",
       "      <th>2</th>\n",
       "      <td>2012</td>\n",
       "      <td>Thailand</td>\n",
       "      <td>Asia</td>\n",
       "    </tr>\n",
       "    <tr>\n",
       "      <th>3</th>\n",
       "      <td>2015</td>\n",
       "      <td>China</td>\n",
       "      <td>Asia</td>\n",
       "    </tr>\n",
       "    <tr>\n",
       "      <th>4</th>\n",
       "      <td>2016</td>\n",
       "      <td>USA</td>\n",
       "      <td>North America</td>\n",
       "    </tr>\n",
       "    <tr>\n",
       "      <th>5</th>\n",
       "      <td>2018</td>\n",
       "      <td>China</td>\n",
       "      <td>Asia</td>\n",
       "    </tr>\n",
       "  </tbody>\n",
       "</table>\n",
       "</div>"
      ],
      "text/plain": [
       "   year  location      continent\n",
       "0  2010   Germany         Europe\n",
       "1  2014     Italy         Europe\n",
       "2  2012  Thailand           Asia\n",
       "3  2015     China           Asia\n",
       "4  2016       USA  North America\n",
       "5  2018     China           Asia"
      ]
     },
     "execution_count": 6,
     "metadata": {},
     "output_type": "execute_result"
    }
   ],
   "source": [
    "pd.DataFrame(data, columns=['year', 'location', 'continent'])"
   ]
  },
  {
   "cell_type": "markdown",
   "id": "db781a63",
   "metadata": {},
   "source": [
    "Если запросить столбец, которого нет в data, то он будет заполнен значениями NaN. Например:\n"
   ]
  },
  {
   "cell_type": "code",
   "execution_count": 7,
   "id": "e31711a1",
   "metadata": {},
   "outputs": [
    {
     "data": {
      "text/html": [
       "<div>\n",
       "<style scoped>\n",
       "    .dataframe tbody tr th:only-of-type {\n",
       "        vertical-align: middle;\n",
       "    }\n",
       "\n",
       "    .dataframe tbody tr th {\n",
       "        vertical-align: top;\n",
       "    }\n",
       "\n",
       "    .dataframe thead th {\n",
       "        text-align: right;\n",
       "    }\n",
       "</style>\n",
       "<table border=\"1\" class=\"dataframe\">\n",
       "  <thead>\n",
       "    <tr style=\"text-align: right;\">\n",
       "      <th></th>\n",
       "      <th>year</th>\n",
       "      <th>city</th>\n",
       "      <th>location</th>\n",
       "      <th>continent</th>\n",
       "    </tr>\n",
       "  </thead>\n",
       "  <tbody>\n",
       "    <tr>\n",
       "      <th>0</th>\n",
       "      <td>2010</td>\n",
       "      <td>NaN</td>\n",
       "      <td>Germany</td>\n",
       "      <td>Europe</td>\n",
       "    </tr>\n",
       "    <tr>\n",
       "      <th>1</th>\n",
       "      <td>2014</td>\n",
       "      <td>NaN</td>\n",
       "      <td>Italy</td>\n",
       "      <td>Europe</td>\n",
       "    </tr>\n",
       "    <tr>\n",
       "      <th>2</th>\n",
       "      <td>2012</td>\n",
       "      <td>NaN</td>\n",
       "      <td>Thailand</td>\n",
       "      <td>Asia</td>\n",
       "    </tr>\n",
       "    <tr>\n",
       "      <th>3</th>\n",
       "      <td>2015</td>\n",
       "      <td>NaN</td>\n",
       "      <td>China</td>\n",
       "      <td>Asia</td>\n",
       "    </tr>\n",
       "    <tr>\n",
       "      <th>4</th>\n",
       "      <td>2016</td>\n",
       "      <td>NaN</td>\n",
       "      <td>USA</td>\n",
       "      <td>North America</td>\n",
       "    </tr>\n",
       "    <tr>\n",
       "      <th>5</th>\n",
       "      <td>2018</td>\n",
       "      <td>NaN</td>\n",
       "      <td>China</td>\n",
       "      <td>Asia</td>\n",
       "    </tr>\n",
       "  </tbody>\n",
       "</table>\n",
       "</div>"
      ],
      "text/plain": [
       "   year city  location      continent\n",
       "0  2010  NaN   Germany         Europe\n",
       "1  2014  NaN     Italy         Europe\n",
       "2  2012  NaN  Thailand           Asia\n",
       "3  2015  NaN     China           Asia\n",
       "4  2016  NaN       USA  North America\n",
       "5  2018  NaN     China           Asia"
      ]
     },
     "execution_count": 7,
     "metadata": {},
     "output_type": "execute_result"
    }
   ],
   "source": [
    "frame2=pd.DataFrame(data, columns=['year', 'city', 'location','continent'])\n",
    "frame2"
   ]
  },
  {
   "cell_type": "markdown",
   "id": "f1abcbd2",
   "metadata": {},
   "source": [
    "Столбец DataFrame можно извлечь как объект Series, воспользовавшись нотацией словарей или c помощью атрибута:"
   ]
  },
  {
   "cell_type": "code",
   "execution_count": 9,
   "id": "372d15fa",
   "metadata": {},
   "outputs": [
    {
     "data": {
      "text/plain": [
       "0     Germany\n",
       "1       Italy\n",
       "2    Thailand\n",
       "3       China\n",
       "4         USA\n",
       "5       China\n",
       "Name: location, dtype: object"
      ]
     },
     "execution_count": 9,
     "metadata": {},
     "output_type": "execute_result"
    }
   ],
   "source": [
    "frame2['location']"
   ]
  },
  {
   "cell_type": "code",
   "execution_count": 8,
   "id": "3470eeb9",
   "metadata": {},
   "outputs": [
    {
     "data": {
      "text/plain": [
       "0    2010\n",
       "1    2014\n",
       "2    2012\n",
       "3    2015\n",
       "4    2016\n",
       "5    2018\n",
       "Name: year, dtype: int64"
      ]
     },
     "execution_count": 8,
     "metadata": {},
     "output_type": "execute_result"
    }
   ],
   "source": [
    "frame2['year']"
   ]
  },
  {
   "cell_type": "markdown",
   "id": "e9882aaf",
   "metadata": {},
   "source": [
    "Строки также можно извлечь по позиции или по имени с помощью специального атрибута loc:"
   ]
  },
  {
   "cell_type": "code",
   "execution_count": 10,
   "id": "a39a32b5",
   "metadata": {},
   "outputs": [
    {
     "data": {
      "text/plain": [
       "year          2015\n",
       "city           NaN\n",
       "location     China\n",
       "continent     Asia\n",
       "Name: 3, dtype: object"
      ]
     },
     "execution_count": 10,
     "metadata": {},
     "output_type": "execute_result"
    }
   ],
   "source": [
    "frame2.loc[3]"
   ]
  },
  {
   "cell_type": "markdown",
   "id": "8f5a8c93",
   "metadata": {},
   "source": [
    "Столбцы можно модифицировать путем присваивания. Например, пустому столбцу 'city' можно присвоить скалярное значение или массив значений:"
   ]
  },
  {
   "cell_type": "code",
   "execution_count": 11,
   "id": "60c6ba32",
   "metadata": {},
   "outputs": [
    {
     "data": {
      "text/html": [
       "<div>\n",
       "<style scoped>\n",
       "    .dataframe tbody tr th:only-of-type {\n",
       "        vertical-align: middle;\n",
       "    }\n",
       "\n",
       "    .dataframe tbody tr th {\n",
       "        vertical-align: top;\n",
       "    }\n",
       "\n",
       "    .dataframe thead th {\n",
       "        text-align: right;\n",
       "    }\n",
       "</style>\n",
       "<table border=\"1\" class=\"dataframe\">\n",
       "  <thead>\n",
       "    <tr style=\"text-align: right;\">\n",
       "      <th></th>\n",
       "      <th>year</th>\n",
       "      <th>city</th>\n",
       "      <th>location</th>\n",
       "      <th>continent</th>\n",
       "    </tr>\n",
       "  </thead>\n",
       "  <tbody>\n",
       "    <tr>\n",
       "      <th>0</th>\n",
       "      <td>2010</td>\n",
       "      <td>Tyumen</td>\n",
       "      <td>Germany</td>\n",
       "      <td>Europe</td>\n",
       "    </tr>\n",
       "    <tr>\n",
       "      <th>1</th>\n",
       "      <td>2014</td>\n",
       "      <td>Tyumen</td>\n",
       "      <td>Italy</td>\n",
       "      <td>Europe</td>\n",
       "    </tr>\n",
       "    <tr>\n",
       "      <th>2</th>\n",
       "      <td>2012</td>\n",
       "      <td>Tyumen</td>\n",
       "      <td>Thailand</td>\n",
       "      <td>Asia</td>\n",
       "    </tr>\n",
       "    <tr>\n",
       "      <th>3</th>\n",
       "      <td>2015</td>\n",
       "      <td>Tyumen</td>\n",
       "      <td>China</td>\n",
       "      <td>Asia</td>\n",
       "    </tr>\n",
       "    <tr>\n",
       "      <th>4</th>\n",
       "      <td>2016</td>\n",
       "      <td>Tyumen</td>\n",
       "      <td>USA</td>\n",
       "      <td>North America</td>\n",
       "    </tr>\n",
       "    <tr>\n",
       "      <th>5</th>\n",
       "      <td>2018</td>\n",
       "      <td>Tyumen</td>\n",
       "      <td>China</td>\n",
       "      <td>Asia</td>\n",
       "    </tr>\n",
       "  </tbody>\n",
       "</table>\n",
       "</div>"
      ],
      "text/plain": [
       "   year    city  location      continent\n",
       "0  2010  Tyumen   Germany         Europe\n",
       "1  2014  Tyumen     Italy         Europe\n",
       "2  2012  Tyumen  Thailand           Asia\n",
       "3  2015  Tyumen     China           Asia\n",
       "4  2016  Tyumen       USA  North America\n",
       "5  2018  Tyumen     China           Asia"
      ]
     },
     "execution_count": 11,
     "metadata": {},
     "output_type": "execute_result"
    }
   ],
   "source": [
    "frame2['city'] = \"Tyumen\"\n",
    "frame2"
   ]
  },
  {
   "cell_type": "code",
   "execution_count": 12,
   "id": "33d4d01e",
   "metadata": {},
   "outputs": [
    {
     "data": {
      "text/html": [
       "<div>\n",
       "<style scoped>\n",
       "    .dataframe tbody tr th:only-of-type {\n",
       "        vertical-align: middle;\n",
       "    }\n",
       "\n",
       "    .dataframe tbody tr th {\n",
       "        vertical-align: top;\n",
       "    }\n",
       "\n",
       "    .dataframe thead th {\n",
       "        text-align: right;\n",
       "    }\n",
       "</style>\n",
       "<table border=\"1\" class=\"dataframe\">\n",
       "  <thead>\n",
       "    <tr style=\"text-align: right;\">\n",
       "      <th></th>\n",
       "      <th>year</th>\n",
       "      <th>city</th>\n",
       "      <th>location</th>\n",
       "      <th>continent</th>\n",
       "    </tr>\n",
       "  </thead>\n",
       "  <tbody>\n",
       "    <tr>\n",
       "      <th>0</th>\n",
       "      <td>2010</td>\n",
       "      <td>Berlin</td>\n",
       "      <td>Germany</td>\n",
       "      <td>Europe</td>\n",
       "    </tr>\n",
       "    <tr>\n",
       "      <th>1</th>\n",
       "      <td>2014</td>\n",
       "      <td>Rim</td>\n",
       "      <td>Italy</td>\n",
       "      <td>Europe</td>\n",
       "    </tr>\n",
       "    <tr>\n",
       "      <th>2</th>\n",
       "      <td>2012</td>\n",
       "      <td>Patai</td>\n",
       "      <td>Thailand</td>\n",
       "      <td>Asia</td>\n",
       "    </tr>\n",
       "    <tr>\n",
       "      <th>3</th>\n",
       "      <td>2015</td>\n",
       "      <td>Beijing</td>\n",
       "      <td>China</td>\n",
       "      <td>Asia</td>\n",
       "    </tr>\n",
       "    <tr>\n",
       "      <th>4</th>\n",
       "      <td>2016</td>\n",
       "      <td>Washington</td>\n",
       "      <td>USA</td>\n",
       "      <td>North America</td>\n",
       "    </tr>\n",
       "    <tr>\n",
       "      <th>5</th>\n",
       "      <td>2018</td>\n",
       "      <td>Harbin</td>\n",
       "      <td>China</td>\n",
       "      <td>Asia</td>\n",
       "    </tr>\n",
       "  </tbody>\n",
       "</table>\n",
       "</div>"
      ],
      "text/plain": [
       "   year        city  location      continent\n",
       "0  2010      Berlin   Germany         Europe\n",
       "1  2014         Rim     Italy         Europe\n",
       "2  2012       Patai  Thailand           Asia\n",
       "3  2015     Beijing     China           Asia\n",
       "4  2016  Washington       USA  North America\n",
       "5  2018      Harbin     China           Asia"
      ]
     },
     "execution_count": 12,
     "metadata": {},
     "output_type": "execute_result"
    }
   ],
   "source": [
    "frame2['city'] = ['Berlin','Rim','Patai','Beijing','Washington','Harbin']\n",
    "frame2"
   ]
  },
  {
   "cell_type": "markdown",
   "id": "9c822b83",
   "metadata": {},
   "source": [
    "Когда столбцу присваивается список или массив, длина значения должна совпадать с длиной DataFrame. \n",
    "\n",
    "Если же присваивается объект Series, то его метки будут точно выровнены с индексом DataFrame, а в «дырки» будут вставлены значения NaN."
   ]
  },
  {
   "cell_type": "markdown",
   "id": "b4a1e100",
   "metadata": {},
   "source": [
    "Присваивание несуществующему столбцу приводит к созданию нового столбца. Для удаления столбцов служит ключевое слово del, как и в обычном словаре."
   ]
  },
  {
   "cell_type": "code",
   "execution_count": 13,
   "id": "204a05d2",
   "metadata": {},
   "outputs": [
    {
     "data": {
      "text/html": [
       "<div>\n",
       "<style scoped>\n",
       "    .dataframe tbody tr th:only-of-type {\n",
       "        vertical-align: middle;\n",
       "    }\n",
       "\n",
       "    .dataframe tbody tr th {\n",
       "        vertical-align: top;\n",
       "    }\n",
       "\n",
       "    .dataframe thead th {\n",
       "        text-align: right;\n",
       "    }\n",
       "</style>\n",
       "<table border=\"1\" class=\"dataframe\">\n",
       "  <thead>\n",
       "    <tr style=\"text-align: right;\">\n",
       "      <th></th>\n",
       "      <th>year</th>\n",
       "      <th>city</th>\n",
       "      <th>location</th>\n",
       "    </tr>\n",
       "  </thead>\n",
       "  <tbody>\n",
       "    <tr>\n",
       "      <th>0</th>\n",
       "      <td>2010</td>\n",
       "      <td>Berlin</td>\n",
       "      <td>Germany</td>\n",
       "    </tr>\n",
       "    <tr>\n",
       "      <th>1</th>\n",
       "      <td>2014</td>\n",
       "      <td>Rim</td>\n",
       "      <td>Italy</td>\n",
       "    </tr>\n",
       "    <tr>\n",
       "      <th>2</th>\n",
       "      <td>2012</td>\n",
       "      <td>Patai</td>\n",
       "      <td>Thailand</td>\n",
       "    </tr>\n",
       "    <tr>\n",
       "      <th>3</th>\n",
       "      <td>2015</td>\n",
       "      <td>Beijing</td>\n",
       "      <td>China</td>\n",
       "    </tr>\n",
       "    <tr>\n",
       "      <th>4</th>\n",
       "      <td>2016</td>\n",
       "      <td>Washington</td>\n",
       "      <td>USA</td>\n",
       "    </tr>\n",
       "    <tr>\n",
       "      <th>5</th>\n",
       "      <td>2018</td>\n",
       "      <td>Harbin</td>\n",
       "      <td>China</td>\n",
       "    </tr>\n",
       "  </tbody>\n",
       "</table>\n",
       "</div>"
      ],
      "text/plain": [
       "   year        city  location\n",
       "0  2010      Berlin   Germany\n",
       "1  2014         Rim     Italy\n",
       "2  2012       Patai  Thailand\n",
       "3  2015     Beijing     China\n",
       "4  2016  Washington       USA\n",
       "5  2018      Harbin     China"
      ]
     },
     "execution_count": 13,
     "metadata": {},
     "output_type": "execute_result"
    }
   ],
   "source": [
    "del frame2['continent']\n",
    "frame2"
   ]
  },
  {
   "cell_type": "markdown",
   "id": "7f44fbae",
   "metadata": {},
   "source": [
    "### 1. Чтение и запись файлов в текстовом формате\n",
    "Доступ к данным – обязательный первый шаг анализа данных. Если данных немного, то их можно просто ввести. \n",
    "\n",
    "В проектах по анализу данных, как правило, используют данные, выгруженные из внешних источников.\n",
    "\n",
    "\n",
    "В библиотеке Pandas имеются различные функции для чтения табличных данных, представленных в виде объекта DataFrame. Но чаще всего приходится иметь дело с функциями read_csv и read_table\n"
   ]
  },
  {
   "attachments": {
    "image.png": {
     "image/png": "[encoded data removed]"
    }
   },
   "cell_type": "markdown",
   "id": "e04398e8",
   "metadata": {},
   "source": [
    "![image.png](attachment:image.png)"
   ]
  },
  {
   "cell_type": "markdown",
   "id": "129feecc",
   "metadata": {},
   "source": [
    "Необязательные параметры функций чтения можно отнести к нескольким категориям:"
   ]
  },
  {
   "cell_type": "markdown",
   "id": "2484007a",
   "metadata": {},
   "source": [
    "- индексирование: какие столбцы рассматривать как индекс возвращаемого DataFrame и откуда брать имена столбцов: из файла, от пользователя или вообще ниоткуда;\n",
    "\n",
    "- выведение типа и преобразование данных: включает определенные пользователем преобразования значений и список маркеров отсутствующих данных;\n",
    "\n",
    "- разбор даты и времени: включает средства комбинирования, в том числе сбор данных о дате и времени из нескольких исходных столбцов в один результирующий\n",
    "\n",
    "- итерирование: поддержка обхода очень больших файлов;\n",
    "\n",
    "- проблемы грязных данных: пропуск заголовка, комментариев и другие мелочи, например обработка числовых данных, в которых тройки разрядов разделены запятыми.\n"
   ]
  },
  {
   "cell_type": "markdown",
   "id": "034be8cb",
   "metadata": {},
   "source": [
    "По умолчанию Jupyter настроен на работу с английской локалью. В случае английской локализации файлы отличаются тем, что:\n",
    "\n",
    "1)\tразделитель столбцов – запятая; \n",
    "\n",
    "2)\tразделитель целой и дробной части числа – точка;\n",
    "\n",
    "3)\tформат кодировки – UTF-8. "
   ]
  },
  {
   "cell_type": "markdown",
   "id": "2041d66a",
   "metadata": {},
   "source": [
    "Ключевые отличия российской локализации csv файлов заключаются в том, что:\n",
    "1)\tразделителем столбцов является точка с запятой;\n",
    "2)\tразделителем целой и дробной части числа – запятая; \n",
    "3)\tформат кодировки – чаще всего – ANSI.\n",
    "Для того чтобы загрузить русские версии файлов необходимо задать соответствующие аргументы функции read_csv(): \n",
    "\n",
    "- Sep – задает формат разделителя колонок; \n",
    "\n",
    "- Encoding – кодировку; \n",
    "\n",
    "- Decimal – десятичный разделитель разрядов. "
   ]
  },
  {
   "cell_type": "markdown",
   "id": "345104c7",
   "metadata": {},
   "source": [
    "Считаем содержимое файла scoring_eng.csv в переменную df: "
   ]
  },
  {
   "cell_type": "code",
   "execution_count": 14,
   "id": "4b8f3c28",
   "metadata": {},
   "outputs": [],
   "source": [
    "# при необходимости следует изменить пусть к файлу!!!\n",
    "# используйте параметры в зависимости от локализации!!!\n",
    "df = pd.read_csv ('scoring_eng.csv', decimal=',')"
   ]
  },
  {
   "cell_type": "markdown",
   "id": "594f0d39",
   "metadata": {},
   "source": [
    "Проверим, что загрузилось в переменную df:"
   ]
  },
  {
   "cell_type": "code",
   "execution_count": 15,
   "id": "ff865f51",
   "metadata": {},
   "outputs": [
    {
     "data": {
      "text/html": [
       "<div>\n",
       "<style scoped>\n",
       "    .dataframe tbody tr th:only-of-type {\n",
       "        vertical-align: middle;\n",
       "    }\n",
       "\n",
       "    .dataframe tbody tr th {\n",
       "        vertical-align: top;\n",
       "    }\n",
       "\n",
       "    .dataframe thead th {\n",
       "        text-align: right;\n",
       "    }\n",
       "</style>\n",
       "<table border=\"1\" class=\"dataframe\">\n",
       "  <thead>\n",
       "    <tr style=\"text-align: right;\">\n",
       "      <th></th>\n",
       "      <th>РЕЗУЛЬТАТ</th>\n",
       "      <th>ВОЗРАСТ</th>\n",
       "      <th>СТАТУС_РАБОТАЮЩИЙ</th>\n",
       "      <th>СТАТУС_ПЕНСИОНЕР</th>\n",
       "      <th>ПОЛ</th>\n",
       "      <th>ОБРАЗОВАНИЕ</th>\n",
       "      <th>СЕМЕЙНОЕ_ПОЛОЖЕНИЕ</th>\n",
       "      <th>ТИП_ОРГАНИЗАЦИИ</th>\n",
       "      <th>ВИД_ДЕЯТЕЛЬНОСТИ</th>\n",
       "      <th>ЛИЧНЫЙ_ДОХОД</th>\n",
       "      <th>НАЛИЧИЕ_АВТО</th>\n",
       "      <th>СТАЖ_В_ОРГАНИЗАЦИИ</th>\n",
       "      <th>ВЫПЛАТЫ_ПО_ДРУГИМ_КРЕДИТАМ</th>\n",
       "    </tr>\n",
       "  </thead>\n",
       "  <tbody>\n",
       "    <tr>\n",
       "      <th>0</th>\n",
       "      <td>0</td>\n",
       "      <td>49</td>\n",
       "      <td>1</td>\n",
       "      <td>0</td>\n",
       "      <td>1</td>\n",
       "      <td>Среднее специальное</td>\n",
       "      <td>Состою в браке</td>\n",
       "      <td>Частная компания</td>\n",
       "      <td>Вспомогательный техперсонал</td>\n",
       "      <td>5000</td>\n",
       "      <td>0</td>\n",
       "      <td>18.0</td>\n",
       "      <td>1580</td>\n",
       "    </tr>\n",
       "    <tr>\n",
       "      <th>1</th>\n",
       "      <td>0</td>\n",
       "      <td>32</td>\n",
       "      <td>1</td>\n",
       "      <td>0</td>\n",
       "      <td>1</td>\n",
       "      <td>Среднее</td>\n",
       "      <td>Состою в браке</td>\n",
       "      <td>Индивидуальный предприниматель</td>\n",
       "      <td>Участие в основ. деятельности</td>\n",
       "      <td>12000</td>\n",
       "      <td>0</td>\n",
       "      <td>97.0</td>\n",
       "      <td>4020</td>\n",
       "    </tr>\n",
       "    <tr>\n",
       "      <th>2</th>\n",
       "      <td>0</td>\n",
       "      <td>52</td>\n",
       "      <td>1</td>\n",
       "      <td>0</td>\n",
       "      <td>1</td>\n",
       "      <td>Неполное среднее</td>\n",
       "      <td>Состою в браке</td>\n",
       "      <td>Государственная комп./учреж.</td>\n",
       "      <td>Участие в основ. деятельности</td>\n",
       "      <td>9000</td>\n",
       "      <td>0</td>\n",
       "      <td>84.0</td>\n",
       "      <td>0</td>\n",
       "    </tr>\n",
       "    <tr>\n",
       "      <th>3</th>\n",
       "      <td>0</td>\n",
       "      <td>39</td>\n",
       "      <td>1</td>\n",
       "      <td>0</td>\n",
       "      <td>1</td>\n",
       "      <td>Высшее</td>\n",
       "      <td>Состою в браке</td>\n",
       "      <td>Государственная комп./учреж.</td>\n",
       "      <td>Участие в основ. деятельности</td>\n",
       "      <td>25000</td>\n",
       "      <td>0</td>\n",
       "      <td>168.0</td>\n",
       "      <td>1590</td>\n",
       "    </tr>\n",
       "    <tr>\n",
       "      <th>4</th>\n",
       "      <td>0</td>\n",
       "      <td>30</td>\n",
       "      <td>1</td>\n",
       "      <td>0</td>\n",
       "      <td>0</td>\n",
       "      <td>Среднее</td>\n",
       "      <td>Состою в браке</td>\n",
       "      <td>Государственная комп./учреж.</td>\n",
       "      <td>Участие в основ. деятельности</td>\n",
       "      <td>12000</td>\n",
       "      <td>0</td>\n",
       "      <td>101.0</td>\n",
       "      <td>2230</td>\n",
       "    </tr>\n",
       "  </tbody>\n",
       "</table>\n",
       "</div>"
      ],
      "text/plain": [
       "   РЕЗУЛЬТАТ  ВОЗРАСТ  СТАТУС_РАБОТАЮЩИЙ  СТАТУС_ПЕНСИОНЕР  ПОЛ  \\\n",
       "0          0       49                  1                 0    1   \n",
       "1          0       32                  1                 0    1   \n",
       "2          0       52                  1                 0    1   \n",
       "3          0       39                  1                 0    1   \n",
       "4          0       30                  1                 0    0   \n",
       "\n",
       "           ОБРАЗОВАНИЕ СЕМЕЙНОЕ_ПОЛОЖЕНИЕ                 ТИП_ОРГАНИЗАЦИИ  \\\n",
       "0  Среднее специальное     Состою в браке                Частная компания   \n",
       "1              Среднее     Состою в браке  Индивидуальный предприниматель   \n",
       "2     Неполное среднее     Состою в браке    Государственная комп./учреж.   \n",
       "3               Высшее     Состою в браке    Государственная комп./учреж.   \n",
       "4              Среднее     Состою в браке    Государственная комп./учреж.   \n",
       "\n",
       "                ВИД_ДЕЯТЕЛЬНОСТИ ЛИЧНЫЙ_ДОХОД  НАЛИЧИЕ_АВТО  \\\n",
       "0    Вспомогательный техперсонал         5000             0   \n",
       "1  Участие в основ. деятельности        12000             0   \n",
       "2  Участие в основ. деятельности         9000             0   \n",
       "3  Участие в основ. деятельности        25000             0   \n",
       "4  Участие в основ. деятельности        12000             0   \n",
       "\n",
       "   СТАЖ_В_ОРГАНИЗАЦИИ ВЫПЛАТЫ_ПО_ДРУГИМ_КРЕДИТАМ  \n",
       "0                18.0                       1580  \n",
       "1                97.0                       4020  \n",
       "2                84.0                          0  \n",
       "3               168.0                       1590  \n",
       "4               101.0                       2230  "
      ]
     },
     "execution_count": 15,
     "metadata": {},
     "output_type": "execute_result"
    }
   ],
   "source": [
    "df.head()"
   ]
  },
  {
   "cell_type": "markdown",
   "id": "6341c9a9",
   "metadata": {},
   "source": [
    "Для загрузки файла можно  воспользоваться функцией read_table(), указав разделитель:\n",
    "df = pd.read_table ('D:\\scoring_eng.csv', sep=',')"
   ]
  },
  {
   "cell_type": "markdown",
   "id": "faef7e99",
   "metadata": {},
   "source": [
    "### 2. Размер данных, названия признаков и их типы\n",
    "\n",
    "\n",
    "Для определения количества строк и столбцов в DataFrame используют метод shape:"
   ]
  },
  {
   "cell_type": "code",
   "execution_count": 16,
   "id": "8f1eab3c",
   "metadata": {},
   "outputs": [
    {
     "name": "stdout",
     "output_type": "stream",
     "text": [
      "(15223, 13)\n"
     ]
    }
   ],
   "source": [
    "print(df.shape)"
   ]
  },
  {
   "cell_type": "markdown",
   "id": "ab8ebc85",
   "metadata": {},
   "source": [
    "Таблица содержит 15223 строки и 13 столбцов."
   ]
  },
  {
   "cell_type": "markdown",
   "id": "52b05799",
   "metadata": {},
   "source": [
    "Считаем названия (индексы) столбцов:"
   ]
  },
  {
   "cell_type": "code",
   "execution_count": 17,
   "id": "49ee7c55",
   "metadata": {},
   "outputs": [
    {
     "name": "stdout",
     "output_type": "stream",
     "text": [
      "Index(['РЕЗУЛЬТАТ', 'ВОЗРАСТ', 'СТАТУС_РАБОТАЮЩИЙ', 'СТАТУС_ПЕНСИОНЕР', 'ПОЛ',\n",
      "       'ОБРАЗОВАНИЕ', 'СЕМЕЙНОЕ_ПОЛОЖЕНИЕ', 'ТИП_ОРГАНИЗАЦИИ',\n",
      "       'ВИД_ДЕЯТЕЛЬНОСТИ', 'ЛИЧНЫЙ_ДОХОД', 'НАЛИЧИЕ_АВТО',\n",
      "       'СТАЖ_В_ОРГАНИЗАЦИИ', 'ВЫПЛАТЫ_ПО_ДРУГИМ_КРЕДИТАМ'],\n",
      "      dtype='object')\n"
     ]
    }
   ],
   "source": [
    "print(df.columns)"
   ]
  },
  {
   "cell_type": "markdown",
   "id": "a4f674f1",
   "metadata": {},
   "source": [
    "Для получения информации по DataFrame и всем признакам используется метод info():"
   ]
  },
  {
   "cell_type": "code",
   "execution_count": 18,
   "id": "a2ffcba1",
   "metadata": {},
   "outputs": [
    {
     "name": "stdout",
     "output_type": "stream",
     "text": [
      "<class 'pandas.core.frame.DataFrame'>\n",
      "RangeIndex: 15223 entries, 0 to 15222\n",
      "Data columns (total 13 columns):\n",
      " #   Column                      Non-Null Count  Dtype  \n",
      "---  ------                      --------------  -----  \n",
      " 0   РЕЗУЛЬТАТ                   15223 non-null  int64  \n",
      " 1   ВОЗРАСТ                     15223 non-null  int64  \n",
      " 2   СТАТУС_РАБОТАЮЩИЙ           15223 non-null  int64  \n",
      " 3   СТАТУС_ПЕНСИОНЕР            15223 non-null  int64  \n",
      " 4   ПОЛ                         15223 non-null  int64  \n",
      " 5   ОБРАЗОВАНИЕ                 15223 non-null  object \n",
      " 6   СЕМЕЙНОЕ_ПОЛОЖЕНИЕ          15223 non-null  object \n",
      " 7   ТИП_ОРГАНИЗАЦИИ             13856 non-null  object \n",
      " 8   ВИД_ДЕЯТЕЛЬНОСТИ            13856 non-null  object \n",
      " 9   ЛИЧНЫЙ_ДОХОД                15223 non-null  object \n",
      " 10  НАЛИЧИЕ_АВТО                15223 non-null  int64  \n",
      " 11  СТАЖ_В_ОРГАНИЗАЦИИ          13855 non-null  float64\n",
      " 12  ВЫПЛАТЫ_ПО_ДРУГИМ_КРЕДИТАМ  15223 non-null  object \n",
      "dtypes: float64(1), int64(6), object(6)\n",
      "memory usage: 1.5+ MB\n",
      "None\n"
     ]
    }
   ],
   "source": [
    "print(df.info())"
   ]
  },
  {
   "cell_type": "markdown",
   "id": "91d8ff4f",
   "metadata": {},
   "source": [
    "Изменить тип данных в столбце можно с помощью метода astype(). \n",
    "\n",
    "Преобразуем данные в столбце ВОЗРАСТ к типу float64:"
   ]
  },
  {
   "cell_type": "code",
   "execution_count": 19,
   "id": "058bd4de",
   "metadata": {},
   "outputs": [],
   "source": [
    "df['ВОЗРАСТ'] = df['ВОЗРАСТ'].astype('float64')"
   ]
  },
  {
   "cell_type": "markdown",
   "id": "c2f1649d",
   "metadata": {},
   "source": [
    "С помощью команды df.head() можно убедиться, что тип данных изменился:"
   ]
  },
  {
   "cell_type": "code",
   "execution_count": 20,
   "id": "7a44ebb6",
   "metadata": {},
   "outputs": [
    {
     "data": {
      "text/html": [
       "<div>\n",
       "<style scoped>\n",
       "    .dataframe tbody tr th:only-of-type {\n",
       "        vertical-align: middle;\n",
       "    }\n",
       "\n",
       "    .dataframe tbody tr th {\n",
       "        vertical-align: top;\n",
       "    }\n",
       "\n",
       "    .dataframe thead th {\n",
       "        text-align: right;\n",
       "    }\n",
       "</style>\n",
       "<table border=\"1\" class=\"dataframe\">\n",
       "  <thead>\n",
       "    <tr style=\"text-align: right;\">\n",
       "      <th></th>\n",
       "      <th>РЕЗУЛЬТАТ</th>\n",
       "      <th>ВОЗРАСТ</th>\n",
       "      <th>СТАТУС_РАБОТАЮЩИЙ</th>\n",
       "      <th>СТАТУС_ПЕНСИОНЕР</th>\n",
       "      <th>ПОЛ</th>\n",
       "      <th>ОБРАЗОВАНИЕ</th>\n",
       "      <th>СЕМЕЙНОЕ_ПОЛОЖЕНИЕ</th>\n",
       "      <th>ТИП_ОРГАНИЗАЦИИ</th>\n",
       "      <th>ВИД_ДЕЯТЕЛЬНОСТИ</th>\n",
       "      <th>ЛИЧНЫЙ_ДОХОД</th>\n",
       "      <th>НАЛИЧИЕ_АВТО</th>\n",
       "      <th>СТАЖ_В_ОРГАНИЗАЦИИ</th>\n",
       "      <th>ВЫПЛАТЫ_ПО_ДРУГИМ_КРЕДИТАМ</th>\n",
       "    </tr>\n",
       "  </thead>\n",
       "  <tbody>\n",
       "    <tr>\n",
       "      <th>0</th>\n",
       "      <td>0</td>\n",
       "      <td>49.0</td>\n",
       "      <td>1</td>\n",
       "      <td>0</td>\n",
       "      <td>1</td>\n",
       "      <td>Среднее специальное</td>\n",
       "      <td>Состою в браке</td>\n",
       "      <td>Частная компания</td>\n",
       "      <td>Вспомогательный техперсонал</td>\n",
       "      <td>5000</td>\n",
       "      <td>0</td>\n",
       "      <td>18.0</td>\n",
       "      <td>1580</td>\n",
       "    </tr>\n",
       "    <tr>\n",
       "      <th>1</th>\n",
       "      <td>0</td>\n",
       "      <td>32.0</td>\n",
       "      <td>1</td>\n",
       "      <td>0</td>\n",
       "      <td>1</td>\n",
       "      <td>Среднее</td>\n",
       "      <td>Состою в браке</td>\n",
       "      <td>Индивидуальный предприниматель</td>\n",
       "      <td>Участие в основ. деятельности</td>\n",
       "      <td>12000</td>\n",
       "      <td>0</td>\n",
       "      <td>97.0</td>\n",
       "      <td>4020</td>\n",
       "    </tr>\n",
       "    <tr>\n",
       "      <th>2</th>\n",
       "      <td>0</td>\n",
       "      <td>52.0</td>\n",
       "      <td>1</td>\n",
       "      <td>0</td>\n",
       "      <td>1</td>\n",
       "      <td>Неполное среднее</td>\n",
       "      <td>Состою в браке</td>\n",
       "      <td>Государственная комп./учреж.</td>\n",
       "      <td>Участие в основ. деятельности</td>\n",
       "      <td>9000</td>\n",
       "      <td>0</td>\n",
       "      <td>84.0</td>\n",
       "      <td>0</td>\n",
       "    </tr>\n",
       "    <tr>\n",
       "      <th>3</th>\n",
       "      <td>0</td>\n",
       "      <td>39.0</td>\n",
       "      <td>1</td>\n",
       "      <td>0</td>\n",
       "      <td>1</td>\n",
       "      <td>Высшее</td>\n",
       "      <td>Состою в браке</td>\n",
       "      <td>Государственная комп./учреж.</td>\n",
       "      <td>Участие в основ. деятельности</td>\n",
       "      <td>25000</td>\n",
       "      <td>0</td>\n",
       "      <td>168.0</td>\n",
       "      <td>1590</td>\n",
       "    </tr>\n",
       "    <tr>\n",
       "      <th>4</th>\n",
       "      <td>0</td>\n",
       "      <td>30.0</td>\n",
       "      <td>1</td>\n",
       "      <td>0</td>\n",
       "      <td>0</td>\n",
       "      <td>Среднее</td>\n",
       "      <td>Состою в браке</td>\n",
       "      <td>Государственная комп./учреж.</td>\n",
       "      <td>Участие в основ. деятельности</td>\n",
       "      <td>12000</td>\n",
       "      <td>0</td>\n",
       "      <td>101.0</td>\n",
       "      <td>2230</td>\n",
       "    </tr>\n",
       "  </tbody>\n",
       "</table>\n",
       "</div>"
      ],
      "text/plain": [
       "   РЕЗУЛЬТАТ  ВОЗРАСТ  СТАТУС_РАБОТАЮЩИЙ  СТАТУС_ПЕНСИОНЕР  ПОЛ  \\\n",
       "0          0     49.0                  1                 0    1   \n",
       "1          0     32.0                  1                 0    1   \n",
       "2          0     52.0                  1                 0    1   \n",
       "3          0     39.0                  1                 0    1   \n",
       "4          0     30.0                  1                 0    0   \n",
       "\n",
       "           ОБРАЗОВАНИЕ СЕМЕЙНОЕ_ПОЛОЖЕНИЕ                 ТИП_ОРГАНИЗАЦИИ  \\\n",
       "0  Среднее специальное     Состою в браке                Частная компания   \n",
       "1              Среднее     Состою в браке  Индивидуальный предприниматель   \n",
       "2     Неполное среднее     Состою в браке    Государственная комп./учреж.   \n",
       "3               Высшее     Состою в браке    Государственная комп./учреж.   \n",
       "4              Среднее     Состою в браке    Государственная комп./учреж.   \n",
       "\n",
       "                ВИД_ДЕЯТЕЛЬНОСТИ ЛИЧНЫЙ_ДОХОД  НАЛИЧИЕ_АВТО  \\\n",
       "0    Вспомогательный техперсонал         5000             0   \n",
       "1  Участие в основ. деятельности        12000             0   \n",
       "2  Участие в основ. деятельности         9000             0   \n",
       "3  Участие в основ. деятельности        25000             0   \n",
       "4  Участие в основ. деятельности        12000             0   \n",
       "\n",
       "   СТАЖ_В_ОРГАНИЗАЦИИ ВЫПЛАТЫ_ПО_ДРУГИМ_КРЕДИТАМ  \n",
       "0                18.0                       1580  \n",
       "1                97.0                       4020  \n",
       "2                84.0                          0  \n",
       "3               168.0                       1590  \n",
       "4               101.0                       2230  "
      ]
     },
     "execution_count": 20,
     "metadata": {},
     "output_type": "execute_result"
    }
   ],
   "source": [
    "df.head()"
   ]
  },
  {
   "cell_type": "markdown",
   "id": "2f8f1891",
   "metadata": {},
   "source": [
    "### 3. Индексация и извлечение данных\n",
    "Датафреймы можно индексировать как по названию столбца или строки, так и по порядковому номеру. \n",
    "\n",
    "Для индексации по названию используется метод loc, по номеру — iloc. \n",
    "\n",
    "Метод iloc «работает» как обычно: учитываются значения от начального до конечного не включительно, \n",
    "\n",
    "при использовании метода loc учитывается и начало и конец среза.\n"
   ]
  },
  {
   "cell_type": "code",
   "execution_count": 21,
   "id": "4cec6a6d",
   "metadata": {},
   "outputs": [
    {
     "data": {
      "text/html": [
       "<div>\n",
       "<style scoped>\n",
       "    .dataframe tbody tr th:only-of-type {\n",
       "        vertical-align: middle;\n",
       "    }\n",
       "\n",
       "    .dataframe tbody tr th {\n",
       "        vertical-align: top;\n",
       "    }\n",
       "\n",
       "    .dataframe thead th {\n",
       "        text-align: right;\n",
       "    }\n",
       "</style>\n",
       "<table border=\"1\" class=\"dataframe\">\n",
       "  <thead>\n",
       "    <tr style=\"text-align: right;\">\n",
       "      <th></th>\n",
       "      <th>ПОЛ</th>\n",
       "      <th>ОБРАЗОВАНИЕ</th>\n",
       "      <th>СЕМЕЙНОЕ_ПОЛОЖЕНИЕ</th>\n",
       "      <th>ТИП_ОРГАНИЗАЦИИ</th>\n",
       "    </tr>\n",
       "  </thead>\n",
       "  <tbody>\n",
       "    <tr>\n",
       "      <th>0</th>\n",
       "      <td>1</td>\n",
       "      <td>Среднее специальное</td>\n",
       "      <td>Состою в браке</td>\n",
       "      <td>Частная компания</td>\n",
       "    </tr>\n",
       "    <tr>\n",
       "      <th>1</th>\n",
       "      <td>1</td>\n",
       "      <td>Среднее</td>\n",
       "      <td>Состою в браке</td>\n",
       "      <td>Индивидуальный предприниматель</td>\n",
       "    </tr>\n",
       "    <tr>\n",
       "      <th>2</th>\n",
       "      <td>1</td>\n",
       "      <td>Неполное среднее</td>\n",
       "      <td>Состою в браке</td>\n",
       "      <td>Государственная комп./учреж.</td>\n",
       "    </tr>\n",
       "    <tr>\n",
       "      <th>3</th>\n",
       "      <td>1</td>\n",
       "      <td>Высшее</td>\n",
       "      <td>Состою в браке</td>\n",
       "      <td>Государственная комп./учреж.</td>\n",
       "    </tr>\n",
       "    <tr>\n",
       "      <th>4</th>\n",
       "      <td>0</td>\n",
       "      <td>Среднее</td>\n",
       "      <td>Состою в браке</td>\n",
       "      <td>Государственная комп./учреж.</td>\n",
       "    </tr>\n",
       "    <tr>\n",
       "      <th>5</th>\n",
       "      <td>0</td>\n",
       "      <td>Среднее</td>\n",
       "      <td>Гражданский брак</td>\n",
       "      <td>Частная компания</td>\n",
       "    </tr>\n",
       "  </tbody>\n",
       "</table>\n",
       "</div>"
      ],
      "text/plain": [
       "   ПОЛ          ОБРАЗОВАНИЕ СЕМЕЙНОЕ_ПОЛОЖЕНИЕ                 ТИП_ОРГАНИЗАЦИИ\n",
       "0    1  Среднее специальное     Состою в браке                Частная компания\n",
       "1    1              Среднее     Состою в браке  Индивидуальный предприниматель\n",
       "2    1     Неполное среднее     Состою в браке    Государственная комп./учреж.\n",
       "3    1               Высшее     Состою в браке    Государственная комп./учреж.\n",
       "4    0              Среднее     Состою в браке    Государственная комп./учреж.\n",
       "5    0              Среднее   Гражданский брак                Частная компания"
      ]
     },
     "execution_count": 21,
     "metadata": {},
     "output_type": "execute_result"
    }
   ],
   "source": [
    "df.loc[0:5, 'ПОЛ':'ТИП_ОРГАНИЗАЦИИ']"
   ]
  },
  {
   "cell_type": "code",
   "execution_count": 22,
   "id": "485853bc",
   "metadata": {},
   "outputs": [
    {
     "data": {
      "text/html": [
       "<div>\n",
       "<style scoped>\n",
       "    .dataframe tbody tr th:only-of-type {\n",
       "        vertical-align: middle;\n",
       "    }\n",
       "\n",
       "    .dataframe tbody tr th {\n",
       "        vertical-align: top;\n",
       "    }\n",
       "\n",
       "    .dataframe thead th {\n",
       "        text-align: right;\n",
       "    }\n",
       "</style>\n",
       "<table border=\"1\" class=\"dataframe\">\n",
       "  <thead>\n",
       "    <tr style=\"text-align: right;\">\n",
       "      <th></th>\n",
       "      <th>ПОЛ</th>\n",
       "      <th>ОБРАЗОВАНИЕ</th>\n",
       "      <th>СЕМЕЙНОЕ_ПОЛОЖЕНИЕ</th>\n",
       "    </tr>\n",
       "  </thead>\n",
       "  <tbody>\n",
       "    <tr>\n",
       "      <th>0</th>\n",
       "      <td>1</td>\n",
       "      <td>Среднее специальное</td>\n",
       "      <td>Состою в браке</td>\n",
       "    </tr>\n",
       "    <tr>\n",
       "      <th>1</th>\n",
       "      <td>1</td>\n",
       "      <td>Среднее</td>\n",
       "      <td>Состою в браке</td>\n",
       "    </tr>\n",
       "    <tr>\n",
       "      <th>2</th>\n",
       "      <td>1</td>\n",
       "      <td>Неполное среднее</td>\n",
       "      <td>Состою в браке</td>\n",
       "    </tr>\n",
       "    <tr>\n",
       "      <th>3</th>\n",
       "      <td>1</td>\n",
       "      <td>Высшее</td>\n",
       "      <td>Состою в браке</td>\n",
       "    </tr>\n",
       "    <tr>\n",
       "      <th>4</th>\n",
       "      <td>0</td>\n",
       "      <td>Среднее</td>\n",
       "      <td>Состою в браке</td>\n",
       "    </tr>\n",
       "  </tbody>\n",
       "</table>\n",
       "</div>"
      ],
      "text/plain": [
       "   ПОЛ          ОБРАЗОВАНИЕ СЕМЕЙНОЕ_ПОЛОЖЕНИЕ\n",
       "0    1  Среднее специальное     Состою в браке\n",
       "1    1              Среднее     Состою в браке\n",
       "2    1     Неполное среднее     Состою в браке\n",
       "3    1               Высшее     Состою в браке\n",
       "4    0              Среднее     Состою в браке"
      ]
     },
     "execution_count": 22,
     "metadata": {},
     "output_type": "execute_result"
    }
   ],
   "source": [
    "df.iloc[0:5, 4:7]"
   ]
  },
  {
   "cell_type": "markdown",
   "id": "7162cce8",
   "metadata": {},
   "source": [
    "Для извлечения первой или последней строки датафрейма, используются конструкции df[:1] и df[-1:]:"
   ]
  },
  {
   "cell_type": "code",
   "execution_count": null,
   "id": "b443d750",
   "metadata": {},
   "outputs": [],
   "source": [
    "df[-1:]"
   ]
  },
  {
   "cell_type": "code",
   "execution_count": null,
   "id": "ccaee726",
   "metadata": {},
   "outputs": [],
   "source": [
    "df[:1]"
   ]
  },
  {
   "cell_type": "markdown",
   "id": "fbc726c9",
   "metadata": {},
   "source": [
    "### 4. Сортировка данных\n",
    "DataFrame можно отсортировать по значению какого-нибудь из признаков. \n",
    "\n",
    "Для сортировки можно использовать метод sort_values(). \n",
    "\n",
    "По умолчанию выполняется сортировка по возрастанию. \n",
    "\n",
    "Для сортировки по убыванию следует указать аргумент ascending=False.\n"
   ]
  },
  {
   "cell_type": "code",
   "execution_count": null,
   "id": "77b1fca7",
   "metadata": {},
   "outputs": [],
   "source": [
    "df.sort_values(by='СТАЖ_В_ОРГАНИЗАЦИИ', ascending= False).head()"
   ]
  },
  {
   "cell_type": "markdown",
   "id": "34c4730f",
   "metadata": {},
   "source": [
    "Сортировку можно выполнять и по группе столбцов:"
   ]
  },
  {
   "cell_type": "code",
   "execution_count": null,
   "id": "8b2b7fe4",
   "metadata": {},
   "outputs": [],
   "source": [
    "df.sort_values(by=['ЛИЧНЫЙ_ДОХОД','СТАЖ_В_ОРГАНИЗАЦИИ'], ascending=[False, False]).head()"
   ]
  },
  {
   "cell_type": "markdown",
   "id": "4306f1a6",
   "metadata": {},
   "source": [
    "### 5. Описательные и сводные статистики\n",
    "Объекты Pandas оснащены набором стандартных математических и статистических методов. \n",
    "\n",
    "Большая их часть попадает в категорию редукций, или сводных статистик, – методов, которые вычисляют единственное значение (например, сумму или среднее) для Series или объект Series – для строк либо столбцов DataFrame.\n",
    "\n",
    "\n",
    "Метод sum() объекта DataFrame возвращает Series, содержащий суммы по столбцам. Если передать параметр axis=1, то суммирование будет производиться по строкам. \n",
    "\n",
    "Методы idxmin и idxmax, возвращают индексы, при котором достигается минимум или максимум.\n",
    "\n",
    "Метод describe(), который возвращает несколько сводных статистик за одно обращение:"
   ]
  },
  {
   "cell_type": "code",
   "execution_count": 23,
   "id": "dd184fdc",
   "metadata": {},
   "outputs": [
    {
     "data": {
      "text/html": [
       "<div>\n",
       "<style scoped>\n",
       "    .dataframe tbody tr th:only-of-type {\n",
       "        vertical-align: middle;\n",
       "    }\n",
       "\n",
       "    .dataframe tbody tr th {\n",
       "        vertical-align: top;\n",
       "    }\n",
       "\n",
       "    .dataframe thead th {\n",
       "        text-align: right;\n",
       "    }\n",
       "</style>\n",
       "<table border=\"1\" class=\"dataframe\">\n",
       "  <thead>\n",
       "    <tr style=\"text-align: right;\">\n",
       "      <th></th>\n",
       "      <th>РЕЗУЛЬТАТ</th>\n",
       "      <th>ВОЗРАСТ</th>\n",
       "      <th>СТАТУС_РАБОТАЮЩИЙ</th>\n",
       "      <th>СТАТУС_ПЕНСИОНЕР</th>\n",
       "      <th>ПОЛ</th>\n",
       "      <th>НАЛИЧИЕ_АВТО</th>\n",
       "      <th>СТАЖ_В_ОРГАНИЗАЦИИ</th>\n",
       "    </tr>\n",
       "  </thead>\n",
       "  <tbody>\n",
       "    <tr>\n",
       "      <th>count</th>\n",
       "      <td>15223.000000</td>\n",
       "      <td>15223.000000</td>\n",
       "      <td>15223.000000</td>\n",
       "      <td>15223.000000</td>\n",
       "      <td>15223.000000</td>\n",
       "      <td>15223.000000</td>\n",
       "      <td>1.385500e+04</td>\n",
       "    </tr>\n",
       "    <tr>\n",
       "      <th>mean</th>\n",
       "      <td>0.119030</td>\n",
       "      <td>40.406096</td>\n",
       "      <td>0.909610</td>\n",
       "      <td>0.134468</td>\n",
       "      <td>0.654536</td>\n",
       "      <td>0.116337</td>\n",
       "      <td>2.922120e+02</td>\n",
       "    </tr>\n",
       "    <tr>\n",
       "      <th>std</th>\n",
       "      <td>0.323835</td>\n",
       "      <td>11.601068</td>\n",
       "      <td>0.286748</td>\n",
       "      <td>0.341165</td>\n",
       "      <td>0.475535</td>\n",
       "      <td>0.320844</td>\n",
       "      <td>2.436483e+04</td>\n",
       "    </tr>\n",
       "    <tr>\n",
       "      <th>min</th>\n",
       "      <td>0.000000</td>\n",
       "      <td>21.000000</td>\n",
       "      <td>0.000000</td>\n",
       "      <td>0.000000</td>\n",
       "      <td>0.000000</td>\n",
       "      <td>0.000000</td>\n",
       "      <td>1.000000e+00</td>\n",
       "    </tr>\n",
       "    <tr>\n",
       "      <th>25%</th>\n",
       "      <td>0.000000</td>\n",
       "      <td>30.000000</td>\n",
       "      <td>1.000000</td>\n",
       "      <td>0.000000</td>\n",
       "      <td>0.000000</td>\n",
       "      <td>0.000000</td>\n",
       "      <td>2.400000e+01</td>\n",
       "    </tr>\n",
       "    <tr>\n",
       "      <th>50%</th>\n",
       "      <td>0.000000</td>\n",
       "      <td>39.000000</td>\n",
       "      <td>1.000000</td>\n",
       "      <td>0.000000</td>\n",
       "      <td>1.000000</td>\n",
       "      <td>0.000000</td>\n",
       "      <td>4.800000e+01</td>\n",
       "    </tr>\n",
       "    <tr>\n",
       "      <th>75%</th>\n",
       "      <td>0.000000</td>\n",
       "      <td>50.000000</td>\n",
       "      <td>1.000000</td>\n",
       "      <td>0.000000</td>\n",
       "      <td>1.000000</td>\n",
       "      <td>0.000000</td>\n",
       "      <td>1.100000e+02</td>\n",
       "    </tr>\n",
       "    <tr>\n",
       "      <th>max</th>\n",
       "      <td>1.000000</td>\n",
       "      <td>67.000000</td>\n",
       "      <td>1.000000</td>\n",
       "      <td>1.000000</td>\n",
       "      <td>1.000000</td>\n",
       "      <td>2.000000</td>\n",
       "      <td>2.867959e+06</td>\n",
       "    </tr>\n",
       "  </tbody>\n",
       "</table>\n",
       "</div>"
      ],
      "text/plain": [
       "          РЕЗУЛЬТАТ       ВОЗРАСТ  СТАТУС_РАБОТАЮЩИЙ  СТАТУС_ПЕНСИОНЕР  \\\n",
       "count  15223.000000  15223.000000       15223.000000      15223.000000   \n",
       "mean       0.119030     40.406096           0.909610          0.134468   \n",
       "std        0.323835     11.601068           0.286748          0.341165   \n",
       "min        0.000000     21.000000           0.000000          0.000000   \n",
       "25%        0.000000     30.000000           1.000000          0.000000   \n",
       "50%        0.000000     39.000000           1.000000          0.000000   \n",
       "75%        0.000000     50.000000           1.000000          0.000000   \n",
       "max        1.000000     67.000000           1.000000          1.000000   \n",
       "\n",
       "                ПОЛ  НАЛИЧИЕ_АВТО  СТАЖ_В_ОРГАНИЗАЦИИ  \n",
       "count  15223.000000  15223.000000        1.385500e+04  \n",
       "mean       0.654536      0.116337        2.922120e+02  \n",
       "std        0.475535      0.320844        2.436483e+04  \n",
       "min        0.000000      0.000000        1.000000e+00  \n",
       "25%        0.000000      0.000000        2.400000e+01  \n",
       "50%        1.000000      0.000000        4.800000e+01  \n",
       "75%        1.000000      0.000000        1.100000e+02  \n",
       "max        1.000000      2.000000        2.867959e+06  "
      ]
     },
     "execution_count": 23,
     "metadata": {},
     "output_type": "execute_result"
    }
   ],
   "source": [
    "df.describe()"
   ]
  },
  {
   "cell_type": "markdown",
   "id": "06a86b53",
   "metadata": {},
   "source": [
    "Чтобы посмотреть статистику по нечисловым признакам, нужно явно указать интересующие нас типы в параметре include: "
   ]
  },
  {
   "cell_type": "code",
   "execution_count": 24,
   "id": "d718197c",
   "metadata": {},
   "outputs": [
    {
     "data": {
      "text/html": [
       "<div>\n",
       "<style scoped>\n",
       "    .dataframe tbody tr th:only-of-type {\n",
       "        vertical-align: middle;\n",
       "    }\n",
       "\n",
       "    .dataframe tbody tr th {\n",
       "        vertical-align: top;\n",
       "    }\n",
       "\n",
       "    .dataframe thead th {\n",
       "        text-align: right;\n",
       "    }\n",
       "</style>\n",
       "<table border=\"1\" class=\"dataframe\">\n",
       "  <thead>\n",
       "    <tr style=\"text-align: right;\">\n",
       "      <th></th>\n",
       "      <th>ОБРАЗОВАНИЕ</th>\n",
       "      <th>СЕМЕЙНОЕ_ПОЛОЖЕНИЕ</th>\n",
       "      <th>ТИП_ОРГАНИЗАЦИИ</th>\n",
       "      <th>ВИД_ДЕЯТЕЛЬНОСТИ</th>\n",
       "      <th>ЛИЧНЫЙ_ДОХОД</th>\n",
       "      <th>ВЫПЛАТЫ_ПО_ДРУГИМ_КРЕДИТАМ</th>\n",
       "    </tr>\n",
       "  </thead>\n",
       "  <tbody>\n",
       "    <tr>\n",
       "      <th>count</th>\n",
       "      <td>15223</td>\n",
       "      <td>15223</td>\n",
       "      <td>13856</td>\n",
       "      <td>13856</td>\n",
       "      <td>15223</td>\n",
       "      <td>15223</td>\n",
       "    </tr>\n",
       "    <tr>\n",
       "      <th>unique</th>\n",
       "      <td>7</td>\n",
       "      <td>5</td>\n",
       "      <td>5</td>\n",
       "      <td>10</td>\n",
       "      <td>274</td>\n",
       "      <td>993</td>\n",
       "    </tr>\n",
       "    <tr>\n",
       "      <th>top</th>\n",
       "      <td>Среднее специальное</td>\n",
       "      <td>Состою в браке</td>\n",
       "      <td>Частная компания</td>\n",
       "      <td>Участие в основ. деятельности</td>\n",
       "      <td>10000</td>\n",
       "      <td>0</td>\n",
       "    </tr>\n",
       "    <tr>\n",
       "      <th>freq</th>\n",
       "      <td>6518</td>\n",
       "      <td>9416</td>\n",
       "      <td>6523</td>\n",
       "      <td>11452</td>\n",
       "      <td>1764</td>\n",
       "      <td>13301</td>\n",
       "    </tr>\n",
       "  </tbody>\n",
       "</table>\n",
       "</div>"
      ],
      "text/plain": [
       "                ОБРАЗОВАНИЕ СЕМЕЙНОЕ_ПОЛОЖЕНИЕ   ТИП_ОРГАНИЗАЦИИ  \\\n",
       "count                 15223              15223             13856   \n",
       "unique                    7                  5                 5   \n",
       "top     Среднее специальное     Состою в браке  Частная компания   \n",
       "freq                   6518               9416              6523   \n",
       "\n",
       "                     ВИД_ДЕЯТЕЛЬНОСТИ ЛИЧНЫЙ_ДОХОД ВЫПЛАТЫ_ПО_ДРУГИМ_КРЕДИТАМ  \n",
       "count                           13856        15223                      15223  \n",
       "unique                             10          274                        993  \n",
       "top     Участие в основ. деятельности        10000                          0  \n",
       "freq                            11452         1764                      13301  "
      ]
     },
     "execution_count": 24,
     "metadata": {},
     "output_type": "execute_result"
    }
   ],
   "source": [
    "df.describe(include=['object','bool'])"
   ]
  },
  {
   "cell_type": "markdown",
   "id": "964a8381",
   "metadata": {},
   "source": [
    "Можно также задать include='all', чтоб вывести статистику по всем имеющимся признакам:"
   ]
  },
  {
   "cell_type": "code",
   "execution_count": 25,
   "id": "d2c08b3b",
   "metadata": {},
   "outputs": [
    {
     "data": {
      "text/html": [
       "<div>\n",
       "<style scoped>\n",
       "    .dataframe tbody tr th:only-of-type {\n",
       "        vertical-align: middle;\n",
       "    }\n",
       "\n",
       "    .dataframe tbody tr th {\n",
       "        vertical-align: top;\n",
       "    }\n",
       "\n",
       "    .dataframe thead th {\n",
       "        text-align: right;\n",
       "    }\n",
       "</style>\n",
       "<table border=\"1\" class=\"dataframe\">\n",
       "  <thead>\n",
       "    <tr style=\"text-align: right;\">\n",
       "      <th></th>\n",
       "      <th>РЕЗУЛЬТАТ</th>\n",
       "      <th>ВОЗРАСТ</th>\n",
       "      <th>СТАТУС_РАБОТАЮЩИЙ</th>\n",
       "      <th>СТАТУС_ПЕНСИОНЕР</th>\n",
       "      <th>ПОЛ</th>\n",
       "      <th>ОБРАЗОВАНИЕ</th>\n",
       "      <th>СЕМЕЙНОЕ_ПОЛОЖЕНИЕ</th>\n",
       "      <th>ТИП_ОРГАНИЗАЦИИ</th>\n",
       "      <th>ВИД_ДЕЯТЕЛЬНОСТИ</th>\n",
       "      <th>ЛИЧНЫЙ_ДОХОД</th>\n",
       "      <th>НАЛИЧИЕ_АВТО</th>\n",
       "      <th>СТАЖ_В_ОРГАНИЗАЦИИ</th>\n",
       "      <th>ВЫПЛАТЫ_ПО_ДРУГИМ_КРЕДИТАМ</th>\n",
       "    </tr>\n",
       "  </thead>\n",
       "  <tbody>\n",
       "    <tr>\n",
       "      <th>count</th>\n",
       "      <td>15223.000000</td>\n",
       "      <td>15223.000000</td>\n",
       "      <td>15223.000000</td>\n",
       "      <td>15223.000000</td>\n",
       "      <td>15223.000000</td>\n",
       "      <td>15223</td>\n",
       "      <td>15223</td>\n",
       "      <td>13856</td>\n",
       "      <td>13856</td>\n",
       "      <td>15223</td>\n",
       "      <td>15223.000000</td>\n",
       "      <td>1.385500e+04</td>\n",
       "      <td>15223</td>\n",
       "    </tr>\n",
       "    <tr>\n",
       "      <th>unique</th>\n",
       "      <td>NaN</td>\n",
       "      <td>NaN</td>\n",
       "      <td>NaN</td>\n",
       "      <td>NaN</td>\n",
       "      <td>NaN</td>\n",
       "      <td>7</td>\n",
       "      <td>5</td>\n",
       "      <td>5</td>\n",
       "      <td>10</td>\n",
       "      <td>274</td>\n",
       "      <td>NaN</td>\n",
       "      <td>NaN</td>\n",
       "      <td>993</td>\n",
       "    </tr>\n",
       "    <tr>\n",
       "      <th>top</th>\n",
       "      <td>NaN</td>\n",
       "      <td>NaN</td>\n",
       "      <td>NaN</td>\n",
       "      <td>NaN</td>\n",
       "      <td>NaN</td>\n",
       "      <td>Среднее специальное</td>\n",
       "      <td>Состою в браке</td>\n",
       "      <td>Частная компания</td>\n",
       "      <td>Участие в основ. деятельности</td>\n",
       "      <td>10000</td>\n",
       "      <td>NaN</td>\n",
       "      <td>NaN</td>\n",
       "      <td>0</td>\n",
       "    </tr>\n",
       "    <tr>\n",
       "      <th>freq</th>\n",
       "      <td>NaN</td>\n",
       "      <td>NaN</td>\n",
       "      <td>NaN</td>\n",
       "      <td>NaN</td>\n",
       "      <td>NaN</td>\n",
       "      <td>6518</td>\n",
       "      <td>9416</td>\n",
       "      <td>6523</td>\n",
       "      <td>11452</td>\n",
       "      <td>1764</td>\n",
       "      <td>NaN</td>\n",
       "      <td>NaN</td>\n",
       "      <td>13301</td>\n",
       "    </tr>\n",
       "    <tr>\n",
       "      <th>mean</th>\n",
       "      <td>0.119030</td>\n",
       "      <td>40.406096</td>\n",
       "      <td>0.909610</td>\n",
       "      <td>0.134468</td>\n",
       "      <td>0.654536</td>\n",
       "      <td>NaN</td>\n",
       "      <td>NaN</td>\n",
       "      <td>NaN</td>\n",
       "      <td>NaN</td>\n",
       "      <td>NaN</td>\n",
       "      <td>0.116337</td>\n",
       "      <td>2.922120e+02</td>\n",
       "      <td>NaN</td>\n",
       "    </tr>\n",
       "    <tr>\n",
       "      <th>std</th>\n",
       "      <td>0.323835</td>\n",
       "      <td>11.601068</td>\n",
       "      <td>0.286748</td>\n",
       "      <td>0.341165</td>\n",
       "      <td>0.475535</td>\n",
       "      <td>NaN</td>\n",
       "      <td>NaN</td>\n",
       "      <td>NaN</td>\n",
       "      <td>NaN</td>\n",
       "      <td>NaN</td>\n",
       "      <td>0.320844</td>\n",
       "      <td>2.436483e+04</td>\n",
       "      <td>NaN</td>\n",
       "    </tr>\n",
       "    <tr>\n",
       "      <th>min</th>\n",
       "      <td>0.000000</td>\n",
       "      <td>21.000000</td>\n",
       "      <td>0.000000</td>\n",
       "      <td>0.000000</td>\n",
       "      <td>0.000000</td>\n",
       "      <td>NaN</td>\n",
       "      <td>NaN</td>\n",
       "      <td>NaN</td>\n",
       "      <td>NaN</td>\n",
       "      <td>NaN</td>\n",
       "      <td>0.000000</td>\n",
       "      <td>1.000000e+00</td>\n",
       "      <td>NaN</td>\n",
       "    </tr>\n",
       "    <tr>\n",
       "      <th>25%</th>\n",
       "      <td>0.000000</td>\n",
       "      <td>30.000000</td>\n",
       "      <td>1.000000</td>\n",
       "      <td>0.000000</td>\n",
       "      <td>0.000000</td>\n",
       "      <td>NaN</td>\n",
       "      <td>NaN</td>\n",
       "      <td>NaN</td>\n",
       "      <td>NaN</td>\n",
       "      <td>NaN</td>\n",
       "      <td>0.000000</td>\n",
       "      <td>2.400000e+01</td>\n",
       "      <td>NaN</td>\n",
       "    </tr>\n",
       "    <tr>\n",
       "      <th>50%</th>\n",
       "      <td>0.000000</td>\n",
       "      <td>39.000000</td>\n",
       "      <td>1.000000</td>\n",
       "      <td>0.000000</td>\n",
       "      <td>1.000000</td>\n",
       "      <td>NaN</td>\n",
       "      <td>NaN</td>\n",
       "      <td>NaN</td>\n",
       "      <td>NaN</td>\n",
       "      <td>NaN</td>\n",
       "      <td>0.000000</td>\n",
       "      <td>4.800000e+01</td>\n",
       "      <td>NaN</td>\n",
       "    </tr>\n",
       "    <tr>\n",
       "      <th>75%</th>\n",
       "      <td>0.000000</td>\n",
       "      <td>50.000000</td>\n",
       "      <td>1.000000</td>\n",
       "      <td>0.000000</td>\n",
       "      <td>1.000000</td>\n",
       "      <td>NaN</td>\n",
       "      <td>NaN</td>\n",
       "      <td>NaN</td>\n",
       "      <td>NaN</td>\n",
       "      <td>NaN</td>\n",
       "      <td>0.000000</td>\n",
       "      <td>1.100000e+02</td>\n",
       "      <td>NaN</td>\n",
       "    </tr>\n",
       "    <tr>\n",
       "      <th>max</th>\n",
       "      <td>1.000000</td>\n",
       "      <td>67.000000</td>\n",
       "      <td>1.000000</td>\n",
       "      <td>1.000000</td>\n",
       "      <td>1.000000</td>\n",
       "      <td>NaN</td>\n",
       "      <td>NaN</td>\n",
       "      <td>NaN</td>\n",
       "      <td>NaN</td>\n",
       "      <td>NaN</td>\n",
       "      <td>2.000000</td>\n",
       "      <td>2.867959e+06</td>\n",
       "      <td>NaN</td>\n",
       "    </tr>\n",
       "  </tbody>\n",
       "</table>\n",
       "</div>"
      ],
      "text/plain": [
       "           РЕЗУЛЬТАТ       ВОЗРАСТ  СТАТУС_РАБОТАЮЩИЙ  СТАТУС_ПЕНСИОНЕР  \\\n",
       "count   15223.000000  15223.000000       15223.000000      15223.000000   \n",
       "unique           NaN           NaN                NaN               NaN   \n",
       "top              NaN           NaN                NaN               NaN   \n",
       "freq             NaN           NaN                NaN               NaN   \n",
       "mean        0.119030     40.406096           0.909610          0.134468   \n",
       "std         0.323835     11.601068           0.286748          0.341165   \n",
       "min         0.000000     21.000000           0.000000          0.000000   \n",
       "25%         0.000000     30.000000           1.000000          0.000000   \n",
       "50%         0.000000     39.000000           1.000000          0.000000   \n",
       "75%         0.000000     50.000000           1.000000          0.000000   \n",
       "max         1.000000     67.000000           1.000000          1.000000   \n",
       "\n",
       "                 ПОЛ          ОБРАЗОВАНИЕ СЕМЕЙНОЕ_ПОЛОЖЕНИЕ  \\\n",
       "count   15223.000000                15223              15223   \n",
       "unique           NaN                    7                  5   \n",
       "top              NaN  Среднее специальное     Состою в браке   \n",
       "freq             NaN                 6518               9416   \n",
       "mean        0.654536                  NaN                NaN   \n",
       "std         0.475535                  NaN                NaN   \n",
       "min         0.000000                  NaN                NaN   \n",
       "25%         0.000000                  NaN                NaN   \n",
       "50%         1.000000                  NaN                NaN   \n",
       "75%         1.000000                  NaN                NaN   \n",
       "max         1.000000                  NaN                NaN   \n",
       "\n",
       "         ТИП_ОРГАНИЗАЦИИ               ВИД_ДЕЯТЕЛЬНОСТИ ЛИЧНЫЙ_ДОХОД  \\\n",
       "count              13856                          13856        15223   \n",
       "unique                 5                             10          274   \n",
       "top     Частная компания  Участие в основ. деятельности        10000   \n",
       "freq                6523                          11452         1764   \n",
       "mean                 NaN                            NaN          NaN   \n",
       "std                  NaN                            NaN          NaN   \n",
       "min                  NaN                            NaN          NaN   \n",
       "25%                  NaN                            NaN          NaN   \n",
       "50%                  NaN                            NaN          NaN   \n",
       "75%                  NaN                            NaN          NaN   \n",
       "max                  NaN                            NaN          NaN   \n",
       "\n",
       "        НАЛИЧИЕ_АВТО  СТАЖ_В_ОРГАНИЗАЦИИ ВЫПЛАТЫ_ПО_ДРУГИМ_КРЕДИТАМ  \n",
       "count   15223.000000        1.385500e+04                      15223  \n",
       "unique           NaN                 NaN                        993  \n",
       "top              NaN                 NaN                          0  \n",
       "freq             NaN                 NaN                      13301  \n",
       "mean        0.116337        2.922120e+02                        NaN  \n",
       "std         0.320844        2.436483e+04                        NaN  \n",
       "min         0.000000        1.000000e+00                        NaN  \n",
       "25%         0.000000        2.400000e+01                        NaN  \n",
       "50%         0.000000        4.800000e+01                        NaN  \n",
       "75%         0.000000        1.100000e+02                        NaN  \n",
       "max         2.000000        2.867959e+06                        NaN  "
      ]
     },
     "execution_count": 25,
     "metadata": {},
     "output_type": "execute_result"
    }
   ],
   "source": [
    "df.describe(include='all')"
   ]
  },
  {
   "cell_type": "markdown",
   "id": "5f75dc9f",
   "metadata": {},
   "source": [
    "Для категориальных (тип object) и булевых (тип bool) признаков можно воспользоваться методом value_counts(). \n",
    "\n",
    "Проанализируем распределение переменной образование:"
   ]
  },
  {
   "cell_type": "code",
   "execution_count": 26,
   "id": "7138311d",
   "metadata": {},
   "outputs": [
    {
     "data": {
      "text/plain": [
       "ОБРАЗОВАНИЕ\n",
       "Среднее специальное               6518\n",
       "Среднее                           4679\n",
       "Высшее                            3133\n",
       "Неоконченное высшее                532\n",
       "Неполное среднее                   340\n",
       "Два и более высших образования      20\n",
       "Ученая степень                       1\n",
       "Name: count, dtype: int64"
      ]
     },
     "execution_count": 26,
     "metadata": {},
     "output_type": "execute_result"
    }
   ],
   "source": [
    "df['ОБРАЗОВАНИЕ'].value_counts()"
   ]
  },
  {
   "cell_type": "markdown",
   "id": "77c99abf",
   "metadata": {},
   "source": [
    "Значение параметра normalize=True позволяет посмотреть не абсолютные, а относительные частоты. \n",
    "\n",
    "Например, возвратим доли лиц с разным семейным статусом:"
   ]
  },
  {
   "cell_type": "code",
   "execution_count": 27,
   "id": "58b63768",
   "metadata": {},
   "outputs": [
    {
     "data": {
      "text/plain": [
       "СЕМЕЙНОЕ_ПОЛОЖЕНИЕ\n",
       "Состою в браке        0.618538\n",
       "Не состоял в браке    0.237929\n",
       "Разведен(а)           0.081784\n",
       "Вдовец/Вдова          0.038626\n",
       "Гражданский брак      0.023123\n",
       "Name: proportion, dtype: float64"
      ]
     },
     "execution_count": 27,
     "metadata": {},
     "output_type": "execute_result"
    }
   ],
   "source": [
    "df['СЕМЕЙНОЕ_ПОЛОЖЕНИЕ'].value_counts(normalize=True)"
   ]
  },
  {
   "attachments": {
    "image.png": {
     "image/png": "[encoded data removed]"
    }
   },
   "cell_type": "markdown",
   "id": "0c9dced5",
   "metadata": {},
   "source": [
    "Полный список сводных статистик и родственных методов приведен в таблице 2.\n",
    "![image.png](attachment:image.png)"
   ]
  },
  {
   "cell_type": "markdown",
   "id": "2c26269e",
   "metadata": {},
   "source": [
    "Как уже было показано выше, для извлечения отдельного столбца используется конструкция DataFrame['Name']. \n",
    "\n",
    "Воспользуемся этим для ответа на вопрос: какова доля владельцев авто?"
   ]
  },
  {
   "cell_type": "code",
   "execution_count": 28,
   "id": "23751bf8",
   "metadata": {},
   "outputs": [
    {
     "data": {
      "text/plain": [
       "0.11633712146094725"
      ]
     },
     "execution_count": 28,
     "metadata": {},
     "output_type": "execute_result"
    }
   ],
   "source": [
    "df['НАЛИЧИЕ_АВТО'].mean()"
   ]
  },
  {
   "cell_type": "markdown",
   "id": "75351e63",
   "metadata": {},
   "source": [
    "В Pandas есть возможность извлекать данные, удовлетворяющие заданным условиям. \n",
    "\n",
    "Например, вычислим средние характеристики владельцев автомобилей."
   ]
  },
  {
   "cell_type": "code",
   "execution_count": 30,
   "id": "c9492265",
   "metadata": {},
   "outputs": [
    {
     "data": {
      "text/plain": [
       "РЕЗУЛЬТАТ  ВОЗРАСТ  СТАТУС_РАБОТАЮЩИЙ  СТАТУС_ПЕНСИОНЕР  ПОЛ  ОБРАЗОВАНИЕ          СЕМЕЙНОЕ_ПОЛОЖЕНИЕ  ТИП_ОРГАНИЗАЦИИ                 ВИД_ДЕЯТЕЛЬНОСТИ               ЛИЧНЫЙ_ДОХОД  НАЛИЧИЕ_АВТО  СТАЖ_В_ОРГАНИЗАЦИИ  ВЫПЛАТЫ_ПО_ДРУГИМ_КРЕДИТАМ\n",
       "1          30.0     1                  0                 0    Среднее              Состою в браке      Государственная комп./учреж.    Участие в основ. деятельности  15000         1             72.0                0                             2\n",
       "0          33.0     1                  0                 0    Среднее              Состою в браке      Частная компания                Участие в основ. деятельности  25000         1             24.0                0                             2\n",
       "           27.0     1                  0                 0    Высшее               Не состоял в браке  Частная компания                Участие в основ. деятельности  20000         1             24.0                0                             2\n",
       "           22.0     1                  0                 0    Неоконченное высшее  Не состоял в браке  Частная компания                Вспомогательный техперсонал    16000         1             3.0                 0                             1\n",
       "           47.0     1                  0                 0    Среднее              Состою в браке      Государственная комп./учреж.    Адм-хоз. и трансп. службы      10000         1             72.0                0                             1\n",
       "                                                                                                                                                                                                                                                   ..\n",
       "           34.0     1                  0                 0    Среднее              Не состоял в браке  Частная компания                Участие в основ. деятельности  35000         1             60.0                0                             1\n",
       "                                                                                                                                                                      15000         1             60.0                0                             1\n",
       "                                                                                                                                                                      11000         1             12.0                830                           1\n",
       "                                                                                                       Индивидуальный предприниматель  Участие в основ. деятельности  40000         1             24.0                0                             1\n",
       "1          62.0     0                  1                 0    Среднее              Гражданский брак    Частная компания                Участие в основ. деятельности  7000          1             48.0                0                             1\n",
       "Name: count, Length: 1710, dtype: int64"
      ]
     },
     "execution_count": 30,
     "metadata": {},
     "output_type": "execute_result"
    }
   ],
   "source": [
    "df[df['НАЛИЧИЕ_АВТО'] == 1].value_counts()"
   ]
  },
  {
   "cell_type": "markdown",
   "id": "7fd5cbbd",
   "metadata": {},
   "source": [
    "Эти возможности можно комбинировать. Например, вычислим среднее значение личного дохода лиц, получивших кредит. "
   ]
  },
  {
   "cell_type": "code",
   "execution_count": 31,
   "id": "7aa120ee",
   "metadata": {},
   "outputs": [
    {
     "data": {
      "text/plain": [
       "37.1280353200883"
      ]
     },
     "execution_count": 31,
     "metadata": {},
     "output_type": "execute_result"
    }
   ],
   "source": [
    "df[df['РЕЗУЛЬТАТ'] == 1]['ВОЗРАСТ'].mean()"
   ]
  },
  {
   "cell_type": "markdown",
   "id": "d977cce4",
   "metadata": {},
   "source": [
    "Функция DataFrame.apply(func, axis=0) позволяет передать функцию и применить ее к каждому отдельному значению серии Pandas:\n",
    "\n",
    "\n",
    " - func: это функция, которая применяется к каждому столбцу или строке;\n",
    " - axis: значение по умолчанию 0. Это ось, вдоль которой применяется функция: 0 или «index»: функция применяется к каждому из столбцов; 1 или «columns»: функция применяется к каждой из строк.\n",
    " \n",
    " \n",
    "Эта функция улучшает возможности библиотеки, поскольку помогает разделять данные в соответствии с требуемыми условиями. \n",
    "\n",
    "\n",
    "По умолчанию result_type=None, а окончательный тип возвращаемого значения выводится из типа возвращаемого значения примененной функции. В противном случае это зависит от аргумента result_type.\n",
    "\n",
    "\n",
    "Применим функцию max из библиотеки NumPy к каждому столбцу из последних четырех столбцов:"
   ]
  },
  {
   "cell_type": "code",
   "execution_count": 32,
   "id": "43715cb9",
   "metadata": {},
   "outputs": [],
   "source": [
    "new_df = df.loc[:, 'ЛИЧНЫЙ_ДОХОД':'ВЫПЛАТЫ_ПО_ДРУГИМ_КРЕДИТАМ']"
   ]
  },
  {
   "cell_type": "code",
   "execution_count": 33,
   "id": "d732fa46",
   "metadata": {},
   "outputs": [
    {
     "data": {
      "text/plain": [
       "ЛИЧНЫЙ_ДОХОД                       9900\n",
       "НАЛИЧИЕ_АВТО                          2\n",
       "СТАЖ_В_ОРГАНИЗАЦИИ            2867959.0\n",
       "ВЫПЛАТЫ_ПО_ДРУГИМ_КРЕДИТАМ       997.66\n",
       "dtype: object"
      ]
     },
     "execution_count": 33,
     "metadata": {},
     "output_type": "execute_result"
    }
   ],
   "source": [
    "new_df.apply(np.max, axis=0)"
   ]
  },
  {
   "cell_type": "markdown",
   "id": "dc30c2fe",
   "metadata": {},
   "source": [
    "Если функцию требуется применить к каждой ячейке столбца, то удобнее всего использовать связку apply-lambda. \n",
    "\n",
    "\n",
    "Отобразим лиц, у которых вид образования начинается с буквы В:"
   ]
  },
  {
   "cell_type": "code",
   "execution_count": 34,
   "id": "c486338b",
   "metadata": {},
   "outputs": [
    {
     "data": {
      "text/html": [
       "<div>\n",
       "<style scoped>\n",
       "    .dataframe tbody tr th:only-of-type {\n",
       "        vertical-align: middle;\n",
       "    }\n",
       "\n",
       "    .dataframe tbody tr th {\n",
       "        vertical-align: top;\n",
       "    }\n",
       "\n",
       "    .dataframe thead th {\n",
       "        text-align: right;\n",
       "    }\n",
       "</style>\n",
       "<table border=\"1\" class=\"dataframe\">\n",
       "  <thead>\n",
       "    <tr style=\"text-align: right;\">\n",
       "      <th></th>\n",
       "      <th>РЕЗУЛЬТАТ</th>\n",
       "      <th>ВОЗРАСТ</th>\n",
       "      <th>СТАТУС_РАБОТАЮЩИЙ</th>\n",
       "      <th>СТАТУС_ПЕНСИОНЕР</th>\n",
       "      <th>ПОЛ</th>\n",
       "      <th>ОБРАЗОВАНИЕ</th>\n",
       "      <th>СЕМЕЙНОЕ_ПОЛОЖЕНИЕ</th>\n",
       "      <th>ТИП_ОРГАНИЗАЦИИ</th>\n",
       "      <th>ВИД_ДЕЯТЕЛЬНОСТИ</th>\n",
       "      <th>ЛИЧНЫЙ_ДОХОД</th>\n",
       "      <th>НАЛИЧИЕ_АВТО</th>\n",
       "      <th>СТАЖ_В_ОРГАНИЗАЦИИ</th>\n",
       "      <th>ВЫПЛАТЫ_ПО_ДРУГИМ_КРЕДИТАМ</th>\n",
       "    </tr>\n",
       "  </thead>\n",
       "  <tbody>\n",
       "    <tr>\n",
       "      <th>3</th>\n",
       "      <td>0</td>\n",
       "      <td>39.0</td>\n",
       "      <td>1</td>\n",
       "      <td>0</td>\n",
       "      <td>1</td>\n",
       "      <td>Высшее</td>\n",
       "      <td>Состою в браке</td>\n",
       "      <td>Государственная комп./учреж.</td>\n",
       "      <td>Участие в основ. деятельности</td>\n",
       "      <td>25000</td>\n",
       "      <td>0</td>\n",
       "      <td>168.0</td>\n",
       "      <td>1590</td>\n",
       "    </tr>\n",
       "    <tr>\n",
       "      <th>6</th>\n",
       "      <td>0</td>\n",
       "      <td>35.0</td>\n",
       "      <td>1</td>\n",
       "      <td>0</td>\n",
       "      <td>0</td>\n",
       "      <td>Высшее</td>\n",
       "      <td>Разведен(а)</td>\n",
       "      <td>Государственная комп./учреж.</td>\n",
       "      <td>Участие в основ. деятельности</td>\n",
       "      <td>15000</td>\n",
       "      <td>0</td>\n",
       "      <td>6.0</td>\n",
       "      <td>0</td>\n",
       "    </tr>\n",
       "    <tr>\n",
       "      <th>8</th>\n",
       "      <td>0</td>\n",
       "      <td>53.0</td>\n",
       "      <td>1</td>\n",
       "      <td>0</td>\n",
       "      <td>0</td>\n",
       "      <td>Высшее</td>\n",
       "      <td>Состою в браке</td>\n",
       "      <td>Частная компания</td>\n",
       "      <td>Участие в основ. деятельности</td>\n",
       "      <td>100000</td>\n",
       "      <td>0</td>\n",
       "      <td>156.0</td>\n",
       "      <td>0</td>\n",
       "    </tr>\n",
       "    <tr>\n",
       "      <th>14</th>\n",
       "      <td>0</td>\n",
       "      <td>38.0</td>\n",
       "      <td>1</td>\n",
       "      <td>0</td>\n",
       "      <td>1</td>\n",
       "      <td>Высшее</td>\n",
       "      <td>Состою в браке</td>\n",
       "      <td>Государственная комп./учреж.</td>\n",
       "      <td>Участие в основ. деятельности</td>\n",
       "      <td>20000</td>\n",
       "      <td>0</td>\n",
       "      <td>120.0</td>\n",
       "      <td>0</td>\n",
       "    </tr>\n",
       "    <tr>\n",
       "      <th>15</th>\n",
       "      <td>1</td>\n",
       "      <td>41.0</td>\n",
       "      <td>1</td>\n",
       "      <td>0</td>\n",
       "      <td>1</td>\n",
       "      <td>Высшее</td>\n",
       "      <td>Разведен(а)</td>\n",
       "      <td>Индивидуальный предприниматель</td>\n",
       "      <td>Участие в основ. деятельности</td>\n",
       "      <td>60000</td>\n",
       "      <td>0</td>\n",
       "      <td>168.0</td>\n",
       "      <td>0</td>\n",
       "    </tr>\n",
       "  </tbody>\n",
       "</table>\n",
       "</div>"
      ],
      "text/plain": [
       "    РЕЗУЛЬТАТ  ВОЗРАСТ  СТАТУС_РАБОТАЮЩИЙ  СТАТУС_ПЕНСИОНЕР  ПОЛ ОБРАЗОВАНИЕ  \\\n",
       "3           0     39.0                  1                 0    1      Высшее   \n",
       "6           0     35.0                  1                 0    0      Высшее   \n",
       "8           0     53.0                  1                 0    0      Высшее   \n",
       "14          0     38.0                  1                 0    1      Высшее   \n",
       "15          1     41.0                  1                 0    1      Высшее   \n",
       "\n",
       "   СЕМЕЙНОЕ_ПОЛОЖЕНИЕ                 ТИП_ОРГАНИЗАЦИИ  \\\n",
       "3      Состою в браке    Государственная комп./учреж.   \n",
       "6         Разведен(а)    Государственная комп./учреж.   \n",
       "8      Состою в браке                Частная компания   \n",
       "14     Состою в браке    Государственная комп./учреж.   \n",
       "15        Разведен(а)  Индивидуальный предприниматель   \n",
       "\n",
       "                 ВИД_ДЕЯТЕЛЬНОСТИ ЛИЧНЫЙ_ДОХОД  НАЛИЧИЕ_АВТО  \\\n",
       "3   Участие в основ. деятельности        25000             0   \n",
       "6   Участие в основ. деятельности        15000             0   \n",
       "8   Участие в основ. деятельности       100000             0   \n",
       "14  Участие в основ. деятельности        20000             0   \n",
       "15  Участие в основ. деятельности        60000             0   \n",
       "\n",
       "    СТАЖ_В_ОРГАНИЗАЦИИ ВЫПЛАТЫ_ПО_ДРУГИМ_КРЕДИТАМ  \n",
       "3                168.0                       1590  \n",
       "6                  6.0                          0  \n",
       "8                156.0                          0  \n",
       "14               120.0                          0  \n",
       "15               168.0                          0  "
      ]
     },
     "execution_count": 34,
     "metadata": {},
     "output_type": "execute_result"
    }
   ],
   "source": [
    "df[df['ОБРАЗОВАНИЕ'].apply(lambda state:state[0] == 'В')].head()"
   ]
  },
  {
   "cell_type": "markdown",
   "id": "ef64877f",
   "metadata": {},
   "source": [
    "Для получения новых данных можно добавлять столбцы:"
   ]
  },
  {
   "cell_type": "code",
   "execution_count": null,
   "id": "435097de",
   "metadata": {},
   "outputs": [],
   "source": [
    "df['ДОЛГОВАЯ_НАГРУЗКА'] = df['ВЫПЛАТЫ_ПО_ДРУГИМ_КРЕДИТАМ'] / df['ЛИЧНЫЙ_ДОХОД']"
   ]
  },
  {
   "cell_type": "code",
   "execution_count": 36,
   "id": "9c963767",
   "metadata": {},
   "outputs": [
    {
     "data": {
      "text/html": [
       "<div>\n",
       "<style scoped>\n",
       "    .dataframe tbody tr th:only-of-type {\n",
       "        vertical-align: middle;\n",
       "    }\n",
       "\n",
       "    .dataframe tbody tr th {\n",
       "        vertical-align: top;\n",
       "    }\n",
       "\n",
       "    .dataframe thead th {\n",
       "        text-align: right;\n",
       "    }\n",
       "</style>\n",
       "<table border=\"1\" class=\"dataframe\">\n",
       "  <thead>\n",
       "    <tr style=\"text-align: right;\">\n",
       "      <th></th>\n",
       "      <th>РЕЗУЛЬТАТ</th>\n",
       "      <th>ВОЗРАСТ</th>\n",
       "      <th>СТАТУС_РАБОТАЮЩИЙ</th>\n",
       "      <th>СТАТУС_ПЕНСИОНЕР</th>\n",
       "      <th>ПОЛ</th>\n",
       "      <th>ОБРАЗОВАНИЕ</th>\n",
       "      <th>СЕМЕЙНОЕ_ПОЛОЖЕНИЕ</th>\n",
       "      <th>ТИП_ОРГАНИЗАЦИИ</th>\n",
       "      <th>ВИД_ДЕЯТЕЛЬНОСТИ</th>\n",
       "      <th>ЛИЧНЫЙ_ДОХОД</th>\n",
       "      <th>НАЛИЧИЕ_АВТО</th>\n",
       "      <th>СТАЖ_В_ОРГАНИЗАЦИИ</th>\n",
       "      <th>ВЫПЛАТЫ_ПО_ДРУГИМ_КРЕДИТАМ</th>\n",
       "    </tr>\n",
       "  </thead>\n",
       "  <tbody>\n",
       "    <tr>\n",
       "      <th>0</th>\n",
       "      <td>0</td>\n",
       "      <td>49.0</td>\n",
       "      <td>1</td>\n",
       "      <td>0</td>\n",
       "      <td>1</td>\n",
       "      <td>Среднее специальное</td>\n",
       "      <td>Состою в браке</td>\n",
       "      <td>Частная компания</td>\n",
       "      <td>Вспомогательный техперсонал</td>\n",
       "      <td>5000</td>\n",
       "      <td>0</td>\n",
       "      <td>18.0</td>\n",
       "      <td>1580</td>\n",
       "    </tr>\n",
       "    <tr>\n",
       "      <th>1</th>\n",
       "      <td>0</td>\n",
       "      <td>32.0</td>\n",
       "      <td>1</td>\n",
       "      <td>0</td>\n",
       "      <td>1</td>\n",
       "      <td>Среднее</td>\n",
       "      <td>Состою в браке</td>\n",
       "      <td>Индивидуальный предприниматель</td>\n",
       "      <td>Участие в основ. деятельности</td>\n",
       "      <td>12000</td>\n",
       "      <td>0</td>\n",
       "      <td>97.0</td>\n",
       "      <td>4020</td>\n",
       "    </tr>\n",
       "    <tr>\n",
       "      <th>2</th>\n",
       "      <td>0</td>\n",
       "      <td>52.0</td>\n",
       "      <td>1</td>\n",
       "      <td>0</td>\n",
       "      <td>1</td>\n",
       "      <td>Неполное среднее</td>\n",
       "      <td>Состою в браке</td>\n",
       "      <td>Государственная комп./учреж.</td>\n",
       "      <td>Участие в основ. деятельности</td>\n",
       "      <td>9000</td>\n",
       "      <td>0</td>\n",
       "      <td>84.0</td>\n",
       "      <td>0</td>\n",
       "    </tr>\n",
       "    <tr>\n",
       "      <th>3</th>\n",
       "      <td>0</td>\n",
       "      <td>39.0</td>\n",
       "      <td>1</td>\n",
       "      <td>0</td>\n",
       "      <td>1</td>\n",
       "      <td>Высшее</td>\n",
       "      <td>Состою в браке</td>\n",
       "      <td>Государственная комп./учреж.</td>\n",
       "      <td>Участие в основ. деятельности</td>\n",
       "      <td>25000</td>\n",
       "      <td>0</td>\n",
       "      <td>168.0</td>\n",
       "      <td>1590</td>\n",
       "    </tr>\n",
       "    <tr>\n",
       "      <th>4</th>\n",
       "      <td>0</td>\n",
       "      <td>30.0</td>\n",
       "      <td>1</td>\n",
       "      <td>0</td>\n",
       "      <td>0</td>\n",
       "      <td>Среднее</td>\n",
       "      <td>Состою в браке</td>\n",
       "      <td>Государственная комп./учреж.</td>\n",
       "      <td>Участие в основ. деятельности</td>\n",
       "      <td>12000</td>\n",
       "      <td>0</td>\n",
       "      <td>101.0</td>\n",
       "      <td>2230</td>\n",
       "    </tr>\n",
       "  </tbody>\n",
       "</table>\n",
       "</div>"
      ],
      "text/plain": [
       "   РЕЗУЛЬТАТ  ВОЗРАСТ  СТАТУС_РАБОТАЮЩИЙ  СТАТУС_ПЕНСИОНЕР  ПОЛ  \\\n",
       "0          0     49.0                  1                 0    1   \n",
       "1          0     32.0                  1                 0    1   \n",
       "2          0     52.0                  1                 0    1   \n",
       "3          0     39.0                  1                 0    1   \n",
       "4          0     30.0                  1                 0    0   \n",
       "\n",
       "           ОБРАЗОВАНИЕ СЕМЕЙНОЕ_ПОЛОЖЕНИЕ                 ТИП_ОРГАНИЗАЦИИ  \\\n",
       "0  Среднее специальное     Состою в браке                Частная компания   \n",
       "1              Среднее     Состою в браке  Индивидуальный предприниматель   \n",
       "2     Неполное среднее     Состою в браке    Государственная комп./учреж.   \n",
       "3               Высшее     Состою в браке    Государственная комп./учреж.   \n",
       "4              Среднее     Состою в браке    Государственная комп./учреж.   \n",
       "\n",
       "                ВИД_ДЕЯТЕЛЬНОСТИ ЛИЧНЫЙ_ДОХОД  НАЛИЧИЕ_АВТО  \\\n",
       "0    Вспомогательный техперсонал         5000             0   \n",
       "1  Участие в основ. деятельности        12000             0   \n",
       "2  Участие в основ. деятельности         9000             0   \n",
       "3  Участие в основ. деятельности        25000             0   \n",
       "4  Участие в основ. деятельности        12000             0   \n",
       "\n",
       "   СТАЖ_В_ОРГАНИЗАЦИИ ВЫПЛАТЫ_ПО_ДРУГИМ_КРЕДИТАМ  \n",
       "0                18.0                       1580  \n",
       "1                97.0                       4020  \n",
       "2                84.0                          0  \n",
       "3               168.0                       1590  \n",
       "4               101.0                       2230  "
      ]
     },
     "execution_count": 36,
     "metadata": {},
     "output_type": "execute_result"
    }
   ],
   "source": [
    "df.head()"
   ]
  },
  {
   "cell_type": "markdown",
   "id": "142a9a13",
   "metadata": {},
   "source": [
    "Чтобы удалить ненужные столбцы или строки, используется метод drop, передавая в качестве аргумента нужные индексы и требуемое значение параметра axis (1 – для удаления столбцов, и ничего или 0 – для удаления строк):"
   ]
  },
  {
   "cell_type": "code",
   "execution_count": null,
   "id": "1de06f46",
   "metadata": {},
   "outputs": [],
   "source": [
    "df = df.drop (['ДОЛГОВАЯ_НАГРУЗКА'], axis=1)\n",
    "df.drop ([1,2]).head()"
   ]
  }
 ],
 "metadata": {
  "kernelspec": {
   "display_name": "Python 3",
   "language": "python",
   "name": "python3"
  },
  "language_info": {
   "codemirror_mode": {
    "name": "ipython",
    "version": 3
   },
   "file_extension": ".py",
   "mimetype": "text/x-python",
   "name": "python",
   "nbconvert_exporter": "python",
   "pygments_lexer": "ipython3",
   "version": "3.11.5"
  }
 },
 "nbformat": 4,
 "nbformat_minor": 5
}
